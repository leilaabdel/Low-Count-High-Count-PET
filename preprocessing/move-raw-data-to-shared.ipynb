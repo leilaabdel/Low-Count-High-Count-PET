{
 "cells": [
  {
   "cell_type": "code",
   "execution_count": 1,
   "id": "37c1587d-63a0-4c1a-a2d6-c51934f82b5b",
   "metadata": {},
   "outputs": [],
   "source": [
    "#imports\n",
    "import glob\n",
    "import pickle\n",
    "from tqdm.notebook import tqdm\n",
    "import os"
   ]
  },
  {
   "cell_type": "code",
   "execution_count": 2,
   "id": "99e3f002-6054-4f0b-a05b-533b927802f6",
   "metadata": {},
   "outputs": [],
   "source": [
    "#PATHs\n",
    "\n",
    "USER = \"leila\" #change the user \n",
    "DATA_ROOT = \"/autofs/space/simba_001/users/PBR28_KOALA/data/PET\"\n",
    "WORKING_PROCESSED_DATA_PATH = f\"/autofs/space/celer_001/users/{USER}/working_pbr28\"\n",
    "WINDOWS_SHARED_DATA_PATH =  f\"/autofs/space/celer_001/users/{USER}/pbr28\"\n",
    "PICKLE_SAVE_PATH = f\"{WORKING_PROCESSED_DATA_PATH}/pickles\""
   ]
  },
  {
   "cell_type": "code",
   "execution_count": 3,
   "id": "71d548b9-b250-4b5f-985c-7062ea2579fb",
   "metadata": {},
   "outputs": [],
   "source": [
    "#PARAMS\n",
    "\n",
    "NUMBER_OF_SAMPLES = 30"
   ]
  },
  {
   "cell_type": "code",
   "execution_count": 5,
   "id": "da5fcc4f-93c7-4046-ab55-8a6003c40bc1",
   "metadata": {},
   "outputs": [],
   "source": [
    "all_pets = glob.glob(f\"{DATA_ROOT}/**/\")"
   ]
  },
  {
   "cell_type": "code",
   "execution_count": 6,
   "id": "80876422-eb7e-4dcb-97fc-43a9dab85447",
   "metadata": {},
   "outputs": [],
   "source": [
    "# Load patients with GTs \n",
    "with open(f\"{PICKLE_SAVE_PATH}/unfiltered_patient_list.pkl\" , \"rb\") as f:\n",
    "    gt_patients = pickle.load(f)"
   ]
  },
  {
   "cell_type": "code",
   "execution_count": 7,
   "id": "1e3afe03-926e-48ab-a959-cc0dc1f97108",
   "metadata": {},
   "outputs": [
    {
     "data": {
      "application/vnd.jupyter.widget-view+json": {
       "model_id": "726cc4994fb64480a06720821cbf4549",
       "version_major": 2,
       "version_minor": 0
      },
      "text/plain": [
       "  0%|          | 0/112 [00:00<?, ?it/s]"
      ]
     },
     "metadata": {},
     "output_type": "display_data"
    }
   ],
   "source": [
    "# Copy the filtered paths\n",
    "\n",
    "filtered_pt_paths = [f for f in all_pets if f.split(\"/\")[8] in gt_patients]\n",
    "final_filtered_pats = []\n",
    "\n",
    "def insensitive_glob(pattern):\n",
    "    def either(c):\n",
    "        return '[%s%s]' % (c.lower(), c.upper()) if c.isalpha() else c\n",
    "    return glob.glob(''.join(map(either, pattern)))\n",
    "\n",
    "for f in tqdm(filtered_pt_paths):\n",
    "    list_mode_paths = insensitive_glob(f\"{f}/ListMode*/\")\n",
    "    attenuation_paths = insensitive_glob(f\"{f}/*muMAP*/\")\n",
    "    if len(list_mode_paths) != 0 and len(attenuation_paths) != 0:\n",
    "        final_filtered_pats.append(f)"
   ]
  },
  {
   "cell_type": "code",
   "execution_count": null,
   "id": "cb9a25af-5639-49b9-b2ab-d4ced418087f",
   "metadata": {},
   "outputs": [
    {
     "data": {
      "application/vnd.jupyter.widget-view+json": {
       "model_id": "0268c058bf22425494906a1d979134fb",
       "version_major": 2,
       "version_minor": 0
      },
      "text/plain": [
       "  0%|          | 0/107 [00:00<?, ?it/s]"
      ]
     },
     "metadata": {},
     "output_type": "display_data"
    },
    {
     "name": "stdout",
     "output_type": "stream",
     "text": [
      "cp: cannot stat '/autofs/space/simba_001/users/PBR28_KOALA/data/PET/PBRKOA_KOA001_091317/Listmode_Data//30001Head_PetAcquisition_Raw_Data': No such file or directory\n",
      "mv: cannot stat '/autofs/space/celer_001/users/leila/pbr28/PBRKOA_KOA001_091317/30001Head_PetAcquisition_Raw_Data/pseudo_muMAP': No such file or directory\n",
      "cp: cannot stat '/autofs/space/simba_001/users/PBR28_KOALA/data/PET/PBRKOA_KOA035_011020/Listmode//30001Head_PetAcquisition_Raw_Data': No such file or directory\n",
      "mv: cannot stat '/autofs/space/celer_001/users/leila/pbr28/PBRKOA_KOA035_011020/30001Head_PetAcquisition_Raw_Data/pseudo_muMAP': No such file or directory\n"
     ]
    }
   ],
   "source": [
    "for i, f in enumerate(tqdm(final_filtered_pats)):\n",
    "    pat_id = f.split(\"/\")[-2]\n",
    "    pat_path = f\"{WINDOWS_SHARED_DATA_PATH}/{pat_id}\"\n",
    "\n",
    "    list_mode_path = insensitive_glob(f\"{f}/ListMode*/\")[0]\n",
    "    attenuation_path = insensitive_glob(f\"{f}/*muMAP*/\")[0]\n",
    "    os.makedirs(pat_path, exist_ok=True)\n",
    "    \n",
    "    list_mode_name = list_mode_path.split(\"/\")[-2].replace(\"/\" , \"\")\n",
    "    attenuation_name = attenuation_path.split(\"/\")[-2].replace(\"/\" , \"\")\n",
    "    \n",
    "    !cp -rf \"$list_mode_path/30001Head_PetAcquisition_Raw_Data\" \"$pat_path\"\n",
    "    !cp -rf \"$attenuation_path\" \"$pat_path/30001Head_PetAcquisition_Raw_Data/\"\n",
    "    !mv \"$pat_path/30001Head_PetAcquisition_Raw_Data/$attenuation_name\" \"$pat_path/30001Head_PetAcquisition_Raw_Data/CT\"\n",
    "    \n",
    "    if i == NUMBER_OF_SAMPLES:\n",
    "        break"
   ]
  },
  {
   "cell_type": "code",
   "execution_count": 39,
   "id": "c7c0dc99-79a3-4d0b-b15a-f45e3bd22b62",
   "metadata": {},
   "outputs": [
    {
     "name": "stdout",
     "output_type": "stream",
     "text": [
      "30001Head_PetAcquisition_Raw_Data  30001Head_PetAcquisition_Raw_Data-Converted\r\n"
     ]
    }
   ],
   "source": [
    "!ls \"$WINDOWS_SHARED_DATA_PATH\""
   ]
  }
 ],
 "metadata": {
  "interpreter": {
   "hash": "0de613b1b81ac63f576affa0f6f8275c92361ae1e170306de8d5e733ea749996"
  },
  "kernelspec": {
   "display_name": "Python 3.9.12 ('base')",
   "language": "python",
   "name": "python3"
  },
  "language_info": {
   "codemirror_mode": {
    "name": "ipython",
    "version": 3
   },
   "file_extension": ".py",
   "mimetype": "text/x-python",
   "name": "python",
   "nbconvert_exporter": "python",
   "pygments_lexer": "ipython3",
   "version": "3.9.12"
  }
 },
 "nbformat": 4,
 "nbformat_minor": 5
}
