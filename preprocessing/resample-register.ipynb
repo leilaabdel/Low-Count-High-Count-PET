{
 "cells": [
  {
   "cell_type": "code",
   "execution_count": 1,
   "metadata": {},
   "outputs": [],
   "source": [
    "# Imports\n",
    "import os\n",
    "import sys\n",
    "import SimpleITK as sitk\n",
    "import matplotlib.pyplot as plt\n",
    "import nibabel as nib \n",
    "import numpy as np\n",
    "\n",
    "nb_dir = os.path.split(os.getcwd())[0]\n",
    "if nb_dir not in sys.path:\n",
    "    sys.path.append(nb_dir)\n",
    "\n",
    "from modules import transforms"
   ]
  },
  {
   "cell_type": "code",
   "execution_count": 2,
   "metadata": {},
   "outputs": [],
   "source": [
    "# Paths\n",
    "USER = \"leila\" #change the user \n",
    "TRACER =\"pbr28\"\n",
    "RAW_DATA_ROOT = \"/autofs/space/simba_001/users/PBR28_KOALA/data/PET\"\n",
    "WORKING_PROCESSED_DATA_PATH = f\"/autofs/space/celer_001/users/{USER}/working_{TRACER}\"\n",
    "WINDOWS_SHARED_DATA_PATH =  f\"/autofs/space/celer_001/users/{USER}/{TRACER}\"\n",
    "PATIENTS_WITH_GT = f\"{WORKING_PROCESSED_DATA_PATH}/pickles/unfiltered_patient_list.pkl\"\n",
    "FINAL_DATA_PATH_FOR_MODEL = f\"/autofs/space/celer_001/users/{USER}/data/{TRACER}\""
   ]
  },
  {
   "cell_type": "code",
   "execution_count": 49,
   "metadata": {},
   "outputs": [
    {
     "data": {
      "text/plain": [
       "'/autofs/space/celer_001/users/leila/data/pbr28/PBRKOA_HC021_01/pet_nifti/OP-recon-180-s-low-count.nii'"
      ]
     },
     "execution_count": 49,
     "metadata": {},
     "output_type": "execute_result"
    }
   ],
   "source": [
    "sample_t1_mask = f\"{FINAL_DATA_PATH_FOR_MODEL}/PBRKOA_HC021_01/mr_nifti/gt_t1_head_mask.nii.gz\"\n",
    "sample_pet = f\"{FINAL_DATA_PATH_FOR_MODEL}/PBRKOA_HC021_01/pet_nifti/OP-recon-180-s-low-count.nii\"\n",
    "sample_pet"
   ]
  },
  {
   "cell_type": "code",
   "execution_count": 75,
   "metadata": {},
   "outputs": [
    {
     "data": {
      "text/plain": [
       "<matplotlib.image.AxesImage at 0x7f8978b76fd0>"
      ]
     },
     "execution_count": 75,
     "metadata": {},
     "output_type": "execute_result"
    },
    {
     "data": {
      "image/png": "[encoded data removed]",
      "text/plain": [
       "<Figure size 432x288 with 1 Axes>"
      ]
     },
     "metadata": {
      "needs_background": "light"
     },
     "output_type": "display_data"
    }
   ],
   "source": [
    "orginal_pet = np.squeeze(nib.load(sample_pet).get_fdata())\n",
    "mr_mask =  np.squeeze(nib.load(sample_t1_mask).get_fdata())\n",
    "def transform_low_count(file_path):\n",
    "    img = nib.load(file_path).get_fdata()\n",
    "    img = img.squeeze()\n",
    "    img = np.rot90(img)\n",
    "    img = np.flip(img, 2)\n",
    "    img = np.flip(img, 0)\n",
    "    return img \n",
    "img = transform_low_count(sample_pet)\n",
    "plt.imshow(mr_mask[:,:,50])\n",
    "\n",
    "# registered_mask = nib.load('../test.nii.gz').get_fdata()\n",
    "# registered_mask.shape\n",
    "# plt.imshow(np.rot90(np.squeeze(orginal_pet)[:, :, 127 - 43]))\n",
    "# plt.imshow(registered_t1_mask[43, :, :], alpha = 0.3)\n",
    "# np.unique(registered_mask)"
   ]
  },
  {
   "cell_type": "code",
   "execution_count": 63,
   "metadata": {},
   "outputs": [
    {
     "data": {
      "text/plain": [
       "<matplotlib.image.AxesImage at 0x7f8978dccd60>"
      ]
     },
     "execution_count": 63,
     "metadata": {},
     "output_type": "execute_result"
    },
    {
     "data": {
      "image/png": "[encoded data removed]",
      "text/plain": [
       "<Figure size 432x288 with 1 Axes>"
      ]
     },
     "metadata": {
      "needs_background": "light"
     },
     "output_type": "display_data"
    }
   ],
   "source": [
    "alpha = 0.0055\n",
    "plt.imshow(registered_mask[:, :, 32] * orginal_pet[:,:, 32])"
   ]
  },
  {
   "cell_type": "code",
   "execution_count": 10,
   "metadata": {},
   "outputs": [
    {
     "data": {
      "text/plain": [
       "(127, 344, 344)"
      ]
     },
     "execution_count": 10,
     "metadata": {},
     "output_type": "execute_result"
    }
   ],
   "source": [
    "registered_t1_mask.shape"
   ]
  },
  {
   "cell_type": "code",
   "execution_count": 51,
   "metadata": {},
   "outputs": [
    {
     "name": "stdout",
     "output_type": "stream",
     "text": [
      "gt_recon.nii.gz  OP-recon-180-s-low-count.nii  r_mask.nii\n"
     ]
    }
   ],
   "source": [
    "ls \"/autofs/space/celer_001/users/leila/data/pbr28/PBRKOA_HC021_01/pet_nifti/\""
   ]
  },
  {
   "cell_type": "code",
   "execution_count": null,
   "metadata": {},
   "outputs": [],
   "source": []
  }
 ],
 "metadata": {
  "interpreter": {
   "hash": "c6dd644061696395b513294d8c64a2fd82baaf51241526334e93af3b2c2ccabf"
  },
  "kernelspec": {
   "display_name": "Python 3.9.12 ('base')",
   "language": "python",
   "name": "python3"
  },
  "language_info": {
   "codemirror_mode": {
    "name": "ipython",
    "version": 3
   },
   "file_extension": ".py",
   "mimetype": "text/x-python",
   "name": "python",
   "nbconvert_exporter": "python",
   "pygments_lexer": "ipython3",
   "version": "3.9.12"
  },
  "orig_nbformat": 4
 },
 "nbformat": 4,
 "nbformat_minor": 2
}
