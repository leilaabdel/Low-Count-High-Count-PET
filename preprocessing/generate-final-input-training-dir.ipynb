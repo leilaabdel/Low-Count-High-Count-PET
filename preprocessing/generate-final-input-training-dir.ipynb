{
 "cells": [
  {
   "cell_type": "code",
   "execution_count": 1,
   "metadata": {},
   "outputs": [],
   "source": [
    "# Imports\n",
    "import os\n",
    "import sys\n",
    "import glob\n",
    "import pickle\n",
    "import shutil\n",
    "nb_dir = os.path.split(os.getcwd())[0]\n",
    "if nb_dir not in sys.path:\n",
    "    sys.path.append(nb_dir)\n",
    "\n",
    "from modules import format_dirs"
   ]
  },
  {
   "cell_type": "code",
   "execution_count": 2,
   "metadata": {},
   "outputs": [],
   "source": [
    "# Paths\n",
    "USER = \"leila\" #change the user \n",
    "TRACER =\"pbr28\"\n",
    "RAW_DATA_ROOT = \"/autofs/space/simba_001/users/PBR28_KOALA/data/PET\"\n",
    "WORKING_PROCESSED_DATA_PATH = f\"/autofs/space/celer_001/users/{USER}/working_{TRACER}\"\n",
    "WINDOWS_SHARED_DATA_PATH =  f\"/autofs/space/celer_001/users/{USER}/{TRACER}\"\n",
    "PATIENTS_WITH_GT = f\"{WORKING_PROCESSED_DATA_PATH}/pickles/unfiltered_patient_list.pkl\"\n",
    "FINAL_DATA_PATH_FOR_MODEL = f\"/autofs/space/celer_001/users/{USER}/data/{TRACER}\""
   ]
  },
  {
   "cell_type": "code",
   "execution_count": 3,
   "metadata": {},
   "outputs": [
    {
     "name": "stderr",
     "output_type": "stream",
     "text": [
      "100%|██████████| 27/27 [00:02<00:00, 12.13it/s]\n"
     ]
    }
   ],
   "source": [
    "format_dirs.move_reconstructed_files(WINDOWS_SHARED_DATA_PATH + \"/PBR*/\", FINAL_DATA_PATH_FOR_MODEL , ground_truth_path=RAW_DATA_ROOT)"
   ]
  },
  {
   "cell_type": "code",
   "execution_count": 6,
   "metadata": {},
   "outputs": [
    {
     "name": "stdout",
     "output_type": "stream",
     "text": [
      "gt_t1_head_mask.nii.gz\n"
     ]
    }
   ],
   "source": [
    "!ls /autofs/space/celer_001/users/leila/data/pbr28/PBRKOA_HC021_01/mr_nifti"
   ]
  },
  {
   "cell_type": "code",
   "execution_count": null,
   "metadata": {},
   "outputs": [],
   "source": []
  }
 ],
 "metadata": {
  "interpreter": {
   "hash": "c6dd644061696395b513294d8c64a2fd82baaf51241526334e93af3b2c2ccabf"
  },
  "kernelspec": {
   "display_name": "Python 3.9.12 ('base')",
   "language": "python",
   "name": "python3"
  },
  "language_info": {
   "codemirror_mode": {
    "name": "ipython",
    "version": 3
   },
   "file_extension": ".py",
   "mimetype": "text/x-python",
   "name": "python",
   "nbconvert_exporter": "python",
   "pygments_lexer": "ipython3",
   "version": "3.9.12"
  },
  "orig_nbformat": 4
 },
 "nbformat": 4,
 "nbformat_minor": 2
}
