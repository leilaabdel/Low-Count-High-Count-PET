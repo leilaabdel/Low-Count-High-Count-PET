{
 "cells": [
  {
   "cell_type": "code",
   "execution_count": 1,
   "metadata": {},
   "outputs": [],
   "source": [
    "# Imports\n",
    "import os\n",
    "import sys\n",
    "\n",
    "nb_dir = os.path.split(os.getcwd())[0]\n",
    "if nb_dir not in sys.path:\n",
    "    sys.path.append(nb_dir)\n",
    "\n",
    "from modules import format_dirs"
   ]
  },
  {
   "cell_type": "code",
   "execution_count": 2,
   "metadata": {},
   "outputs": [],
   "source": [
    "# Paths\n",
    "USER = \"leila\" #change the user \n",
    "TRACER =\"pbr28\"\n",
    "RAW_DATA_ROOT = \"/autofs/space/simba_001/users/PBR28_KOALA/data/PET\"\n",
    "WORKING_PROCESSED_DATA_PATH = f\"/autofs/space/celer_001/users/{USER}/working_{TRACER}\"\n",
    "WINDOWS_SHARED_DATA_PATH =  f\"/autofs/space/celer_001/users/{USER}/{TRACER}\"\n",
    "PATIENTS_WITH_GT = f\"{WORKING_PROCESSED_DATA_PATH}/pickles/unfiltered_patient_list.pkl\"\n",
    "FINAL_DATA_PATH_FOR_MODEL = f\"/autofs/space/celer_001/users/{USER}/data/{TRACER}\""
   ]
  },
  {
   "cell_type": "code",
   "execution_count": 3,
   "metadata": {},
   "outputs": [
    {
     "name": "stderr",
     "output_type": "stream",
     "text": [
      "  0%|          | 0/27 [00:00<?, ?it/s]"
     ]
    },
    {
     "name": "stdout",
     "output_type": "stream",
     "text": [
      "*** MOVING FILES ***\n"
     ]
    },
    {
     "name": "stderr",
     "output_type": "stream",
     "text": [
      "WARNING: In /tmp/SimpleITK-build/ITK-prefix/include/ITK-5.2/itkImageSeriesReader.hxx, line 480\n",
      "ImageSeriesReader (0x55b6ca355de0): Non uniform sampling or missing slices detected,  maximum nonuniformity:0.000753968\n",
      "\n"
     ]
    },
    {
     "name": "stdout",
     "output_type": "stream",
     "text": [
      "Converted .dcm series to .nii file\n",
      "Image size: 344 344 127\n"
     ]
    },
    {
     "name": "stderr",
     "output_type": "stream",
     "text": [
      "  4%|▎         | 1/27 [00:02<01:02,  2.40s/it]"
     ]
    },
    {
     "name": "stdout",
     "output_type": "stream",
     "text": [
      "\n",
      "* * * * * * * * * * * * * * * * * * * * * * * * * * * * * * * * * * * * * * * *\n",
      "Command line:\n",
      " reg_resample -ref /autofs/space/celer_001/users/leila/data/pbr28/PBRKOA_HC021_01/pet_nifti/3600-180_OP.nii.gz -flo /autofs/space/celer_001/users/leila/data/pbr28/PBRKOA_HC021_01/mr_nifti/gt_t1_head_mask.nii.gz -res test.nii.gz -inter 0\n",
      "Parameters\n",
      "Reference image name: /autofs/space/celer_001/users/leila/data/pbr28/PBRKOA_HC021_01/pet_nifti/3600-180_OP.nii.gz\n",
      "\t344x344x127 voxels, 1 volumes\n",
      "\t2.08626x2.08626x2.03125 mm\n",
      "Floating image name: /autofs/space/celer_001/users/leila/data/pbr28/PBRKOA_HC021_01/mr_nifti/gt_t1_head_mask.nii.gz\n",
      "\t256x256x256 voxels, 1 volumes\n",
      "\t1x1x1 mm\n",
      "* * * * * * * * * * * * * * * * * * * * * * * * * * * * * * * * * * * * * * * *\n",
      "\n",
      "[NiftyReg] Resampled image has been saved: test.nii.gz\n",
      "*** MOVING FILES ***\n"
     ]
    },
    {
     "name": "stderr",
     "output_type": "stream",
     "text": [
      "WARNING: In /tmp/SimpleITK-build/ITK-prefix/include/ITK-5.2/itkImageSeriesReader.hxx, line 480\n",
      "ImageSeriesReader (0x55b6ca355de0): Non uniform sampling or missing slices detected,  maximum nonuniformity:0.00124603\n",
      "\n"
     ]
    },
    {
     "name": "stdout",
     "output_type": "stream",
     "text": [
      "Converted .dcm series to .nii file\n",
      "Image size: 344 344 127\n"
     ]
    },
    {
     "name": "stderr",
     "output_type": "stream",
     "text": [
      " 52%|█████▏    | 14/27 [00:04<00:03,  3.47it/s]"
     ]
    },
    {
     "name": "stdout",
     "output_type": "stream",
     "text": [
      "\n",
      "* * * * * * * * * * * * * * * * * * * * * * * * * * * * * * * * * * * * * * * *\n",
      "Command line:\n",
      " reg_resample -ref /autofs/space/celer_001/users/leila/data/pbr28/PBRKOA_HC010/pet_nifti/3600-180_OP.nii.gz -flo /autofs/space/celer_001/users/leila/data/pbr28/PBRKOA_HC010/mr_nifti/gt_t1_head_mask.nii.gz -res test.nii.gz -inter 0\n",
      "Parameters\n",
      "Reference image name: /autofs/space/celer_001/users/leila/data/pbr28/PBRKOA_HC010/pet_nifti/3600-180_OP.nii.gz\n",
      "\t344x344x127 voxels, 1 volumes\n",
      "\t2.08626x2.08626x2.03125 mm\n",
      "Floating image name: /autofs/space/celer_001/users/leila/data/pbr28/PBRKOA_HC010/mr_nifti/gt_t1_head_mask.nii.gz\n",
      "\t256x256x256 voxels, 1 volumes\n",
      "\t1x1x1 mm\n",
      "* * * * * * * * * * * * * * * * * * * * * * * * * * * * * * * * * * * * * * * *\n",
      "\n",
      "[NiftyReg] Resampled image has been saved: test.nii.gz\n",
      "*** MOVING FILES ***\n"
     ]
    },
    {
     "name": "stderr",
     "output_type": "stream",
     "text": [
      "WARNING: In /tmp/SimpleITK-build/ITK-prefix/include/ITK-5.2/itkImageSeriesReader.hxx, line 480\n",
      "ImageSeriesReader (0x55b6ca34bdf0): Non uniform sampling or missing slices detected,  maximum nonuniformity:0.00124603\n",
      "\n"
     ]
    },
    {
     "name": "stdout",
     "output_type": "stream",
     "text": [
      "Converted .dcm series to .nii file\n",
      "Image size: 344 344 127\n"
     ]
    },
    {
     "name": "stderr",
     "output_type": "stream",
     "text": [
      "100%|██████████| 27/27 [00:07<00:00,  3.82it/s]"
     ]
    },
    {
     "name": "stdout",
     "output_type": "stream",
     "text": [
      "\n",
      "* * * * * * * * * * * * * * * * * * * * * * * * * * * * * * * * * * * * * * * *\n",
      "Command line:\n",
      " reg_resample -ref /autofs/space/celer_001/users/leila/data/pbr28/PBRKOA_HC011_090518/pet_nifti/3600-180_OP.nii.gz -flo /autofs/space/celer_001/users/leila/data/pbr28/PBRKOA_HC011_090518/mr_nifti/gt_t1_head_mask.nii.gz -res test.nii.gz -inter 0\n",
      "Parameters\n",
      "Reference image name: /autofs/space/celer_001/users/leila/data/pbr28/PBRKOA_HC011_090518/pet_nifti/3600-180_OP.nii.gz\n",
      "\t344x344x127 voxels, 1 volumes\n",
      "\t2.08626x2.08626x2.03125 mm\n",
      "Floating image name: /autofs/space/celer_001/users/leila/data/pbr28/PBRKOA_HC011_090518/mr_nifti/gt_t1_head_mask.nii.gz\n",
      "\t256x256x256 voxels, 1 volumes\n",
      "\t1x1x1 mm\n",
      "* * * * * * * * * * * * * * * * * * * * * * * * * * * * * * * * * * * * * * * *\n",
      "\n",
      "[NiftyReg] Resampled image has been saved: test.nii.gz\n"
     ]
    },
    {
     "name": "stderr",
     "output_type": "stream",
     "text": [
      "\n"
     ]
    }
   ],
   "source": [
    "format_dirs.move_reconstructed_files(WINDOWS_SHARED_DATA_PATH + \"/PBR*/\", FINAL_DATA_PATH_FOR_MODEL, recon_trial_name=\"3600-180\", ground_truth_path=RAW_DATA_ROOT)\n",
    "\n",
    "# format_dirs.move_reconstructed_files(WINDOWS_SHARED_DATA_PATH + \"/PBR*/\", FINAL_DATA_PATH_FOR_MODEL , ground_truth_path=RAW_DATA_ROOT, )"
   ]
  }
 ],
 "metadata": {
  "interpreter": {
   "hash": "c6dd644061696395b513294d8c64a2fd82baaf51241526334e93af3b2c2ccabf"
  },
  "kernelspec": {
   "display_name": "Python 3.9.12 ('base')",
   "language": "python",
   "name": "python3"
  },
  "language_info": {
   "codemirror_mode": {
    "name": "ipython",
    "version": 3
   },
   "file_extension": ".py",
   "mimetype": "text/x-python",
   "name": "python",
   "nbconvert_exporter": "python",
   "pygments_lexer": "ipython3",
   "version": "3.9.12"
  },
  "orig_nbformat": 4
 },
 "nbformat": 4,
 "nbformat_minor": 2
}
