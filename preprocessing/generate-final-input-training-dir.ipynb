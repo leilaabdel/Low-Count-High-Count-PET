{
 "cells": [
  {
   "cell_type": "code",
   "execution_count": 1,
   "metadata": {},
   "outputs": [],
   "source": [
    "# Imports\n",
    "import os\n",
    "import sys\n",
    "\n",
    "nb_dir = os.path.split(os.getcwd())[0]\n",
    "if nb_dir not in sys.path:\n",
    "    sys.path.append(nb_dir)\n",
    "\n",
    "from modules import format_dirs"
   ]
  },
  {
   "cell_type": "code",
   "execution_count": 3,
   "metadata": {},
   "outputs": [],
   "source": [
    "# Paths\n",
    "USER = \"leila\" #change the user \n",
    "TRACER =\"pbr28\"\n",
    "RAW_DATA_ROOT = \"/autofs/space/simba_001/users/PBR28_KOALA/data/PET\"\n",
    "WORKING_PROCESSED_DATA_PATH = f\"/autofs/space/celer_001/users/{USER}/working_{TRACER}\"\n",
    "WINDOWS_SHARED_DATA_PATH =  f\"/autofs/space/celer_001/users/{USER}/{TRACER}\"\n",
    "PATIENTS_WITH_GT = f\"{WORKING_PROCESSED_DATA_PATH}/pickles/unfiltered_patient_list.pkl\"\n",
    "FINAL_DATA_PATH_FOR_MODEL = f\"/autofs/space/celer_001/users/{USER}/data/{TRACER}\""
   ]
  },
  {
   "cell_type": "code",
   "execution_count": 4,
   "metadata": {},
   "outputs": [
    {
     "name": "stderr",
     "output_type": "stream",
     "text": [
      "  0%|          | 0/25 [00:00<?, ?it/s]"
     ]
    },
    {
     "name": "stdout",
     "output_type": "stream",
     "text": [
      "*** MOVING FILES ***\n"
     ]
    },
    {
     "name": "stderr",
     "output_type": "stream",
     "text": [
      "WARNING: In /tmp/SimpleITK-build/ITK-prefix/include/ITK-5.2/itkImageSeriesReader.hxx, line 480\n",
      "ImageSeriesReader (0x5585e67fed90): Non uniform sampling or missing slices detected,  maximum nonuniformity:0.000753968\n",
      "\n"
     ]
    },
    {
     "name": "stdout",
     "output_type": "stream",
     "text": [
      "Converted .dcm series to .nii file\n",
      "Image size: 344 344 127\n",
      "\n",
      "* * * * * * * * * * * * * * * * * * * * * * * * * * * * * * * * * * * * * * * *\n",
      "Command line:\n",
      " reg_resample -ref /autofs/space/celer_001/users/leila/data/pbr28/PBRKOA_HC021_01/pet_nifti/3600-180_OP.nii.gz -flo /autofs/space/celer_001/users/leila/data/pbr28/PBRKOA_HC021_01/mr_nifti/gt_t1_head_mask.nii.gz -res /autofs/space/celer_001/users/leila/data/pbr28/PBRKOA_HC021_01/mr_nifti/t1_mask_registered.nii.gz -inter 0\n",
      "Parameters\n",
      "Reference image name: /autofs/space/celer_001/users/leila/data/pbr28/PBRKOA_HC021_01/pet_nifti/3600-180_OP.nii.gz\n",
      "\t344x344x127 voxels, 1 volumes\n",
      "\t2.08626x2.08626x2.03125 mm\n",
      "Floating image name: /autofs/space/celer_001/users/leila/data/pbr28/PBRKOA_HC021_01/mr_nifti/gt_t1_head_mask.nii.gz\n",
      "\t256x256x256 voxels, 1 volumes\n",
      "\t1x1x1 mm\n",
      "* * * * * * * * * * * * * * * * * * * * * * * * * * * * * * * * * * * * * * * *\n",
      "\n",
      "[NiftyReg] Resampled image has been saved: /autofs/space/celer_001/users/leila/data/pbr28/PBRKOA_HC021_01/mr_nifti/t1_mask_registered.nii.gz\n"
     ]
    },
    {
     "name": "stderr",
     "output_type": "stream",
     "text": [
      "  4%|▍         | 1/25 [00:03<01:32,  3.87s/it]"
     ]
    },
    {
     "name": "stdout",
     "output_type": "stream",
     "text": [
      "\n",
      "* * * * * * * * * * * * * * * * * * * * * * * * * * * * * * * * * * * * * * * *\n",
      "Command line:\n",
      " reg_resample -ref /autofs/space/celer_001/users/leila/data/pbr28/PBRKOA_HC021_01/pet_nifti/3600-180_OP.nii.gz -flo /autofs/space/celer_001/users/leila/data/pbr28/PBRKOA_HC021_01/mr_nifti/t1_original.nii.gz -res /autofs/space/celer_001/users/leila/data/pbr28/PBRKOA_HC021_01/mr_nifti/t1_img_registered.nii.gz -inter 0\n",
      "Parameters\n",
      "Reference image name: /autofs/space/celer_001/users/leila/data/pbr28/PBRKOA_HC021_01/pet_nifti/3600-180_OP.nii.gz\n",
      "\t344x344x127 voxels, 1 volumes\n",
      "\t2.08626x2.08626x2.03125 mm\n",
      "Floating image name: /autofs/space/celer_001/users/leila/data/pbr28/PBRKOA_HC021_01/mr_nifti/t1_original.nii.gz\n",
      "\t256x256x256 voxels, 1 volumes\n",
      "\t1x1x1 mm\n",
      "* * * * * * * * * * * * * * * * * * * * * * * * * * * * * * * * * * * * * * * *\n",
      "\n",
      "[NiftyReg] Resampled image has been saved: /autofs/space/celer_001/users/leila/data/pbr28/PBRKOA_HC021_01/mr_nifti/t1_img_registered.nii.gz\n",
      "*** MOVING FILES ***\n",
      "Converted .dcm series to .nii file\n",
      "Image size: 344 344 127\n"
     ]
    },
    {
     "name": "stderr",
     "output_type": "stream",
     "text": [
      "WARNING: In /tmp/SimpleITK-build/ITK-prefix/include/ITK-5.2/itkImageSeriesReader.hxx, line 480\n",
      "ImageSeriesReader (0x5585e67f5250): Non uniform sampling or missing slices detected,  maximum nonuniformity:0.00124603\n",
      "\n"
     ]
    },
    {
     "name": "stdout",
     "output_type": "stream",
     "text": [
      "\n",
      "* * * * * * * * * * * * * * * * * * * * * * * * * * * * * * * * * * * * * * * *\n",
      "Command line:\n",
      " reg_resample -ref /autofs/space/celer_001/users/leila/data/pbr28/PBRKOA_KOA040_012420/pet_nifti/3600-180_OP.nii.gz -flo /autofs/space/celer_001/users/leila/data/pbr28/PBRKOA_KOA040_012420/mr_nifti/gt_t1_head_mask.nii.gz -res /autofs/space/celer_001/users/leila/data/pbr28/PBRKOA_KOA040_012420/mr_nifti/t1_mask_registered.nii.gz -inter 0\n",
      "Parameters\n",
      "Reference image name: /autofs/space/celer_001/users/leila/data/pbr28/PBRKOA_KOA040_012420/pet_nifti/3600-180_OP.nii.gz\n",
      "\t344x344x127 voxels, 1 volumes\n",
      "\t2.08626x2.08626x2.03125 mm\n",
      "Floating image name: /autofs/space/celer_001/users/leila/data/pbr28/PBRKOA_KOA040_012420/mr_nifti/gt_t1_head_mask.nii.gz\n",
      "\t256x256x256 voxels, 1 volumes\n",
      "\t1x1x1 mm\n",
      "* * * * * * * * * * * * * * * * * * * * * * * * * * * * * * * * * * * * * * * *\n",
      "\n",
      "[NiftyReg] Resampled image has been saved: /autofs/space/celer_001/users/leila/data/pbr28/PBRKOA_KOA040_012420/mr_nifti/t1_mask_registered.nii.gz\n"
     ]
    },
    {
     "name": "stderr",
     "output_type": "stream",
     "text": [
      "  8%|▊         | 2/25 [00:06<01:17,  3.37s/it]"
     ]
    },
    {
     "name": "stdout",
     "output_type": "stream",
     "text": [
      "\n",
      "* * * * * * * * * * * * * * * * * * * * * * * * * * * * * * * * * * * * * * * *\n",
      "Command line:\n",
      " reg_resample -ref /autofs/space/celer_001/users/leila/data/pbr28/PBRKOA_KOA040_012420/pet_nifti/3600-180_OP.nii.gz -flo /autofs/space/celer_001/users/leila/data/pbr28/PBRKOA_KOA040_012420/mr_nifti/t1_original.nii.gz -res /autofs/space/celer_001/users/leila/data/pbr28/PBRKOA_KOA040_012420/mr_nifti/t1_img_registered.nii.gz -inter 0\n",
      "Parameters\n",
      "Reference image name: /autofs/space/celer_001/users/leila/data/pbr28/PBRKOA_KOA040_012420/pet_nifti/3600-180_OP.nii.gz\n",
      "\t344x344x127 voxels, 1 volumes\n",
      "\t2.08626x2.08626x2.03125 mm\n",
      "Floating image name: /autofs/space/celer_001/users/leila/data/pbr28/PBRKOA_KOA040_012420/mr_nifti/t1_original.nii.gz\n",
      "\t256x256x256 voxels, 1 volumes\n",
      "\t1x1x1 mm\n",
      "* * * * * * * * * * * * * * * * * * * * * * * * * * * * * * * * * * * * * * * *\n",
      "\n",
      "[NiftyReg] Resampled image has been saved: /autofs/space/celer_001/users/leila/data/pbr28/PBRKOA_KOA040_012420/mr_nifti/t1_img_registered.nii.gz\n",
      "*** MOVING FILES ***\n",
      "Converted .dcm series to .nii file\n",
      "Image size: 344 344 127\n"
     ]
    },
    {
     "name": "stderr",
     "output_type": "stream",
     "text": [
      "WARNING: In /tmp/SimpleITK-build/ITK-prefix/include/ITK-5.2/itkImageSeriesReader.hxx, line 480\n",
      "ImageSeriesReader (0x5585e734ec00): Non uniform sampling or missing slices detected,  maximum nonuniformity:0.00124603\n",
      "\n"
     ]
    },
    {
     "name": "stdout",
     "output_type": "stream",
     "text": [
      "\n",
      "* * * * * * * * * * * * * * * * * * * * * * * * * * * * * * * * * * * * * * * *\n",
      "Command line:\n",
      " reg_resample -ref /autofs/space/celer_001/users/leila/data/pbr28/PBRKOA_KOA059_042721/pet_nifti/3600-180_OP.nii.gz -flo /autofs/space/celer_001/users/leila/data/pbr28/PBRKOA_KOA059_042721/mr_nifti/gt_t1_head_mask.nii.gz -res /autofs/space/celer_001/users/leila/data/pbr28/PBRKOA_KOA059_042721/mr_nifti/t1_mask_registered.nii.gz -inter 0\n",
      "Parameters\n",
      "Reference image name: /autofs/space/celer_001/users/leila/data/pbr28/PBRKOA_KOA059_042721/pet_nifti/3600-180_OP.nii.gz\n",
      "\t344x344x127 voxels, 1 volumes\n",
      "\t2.08626x2.08626x2.03125 mm\n",
      "Floating image name: /autofs/space/celer_001/users/leila/data/pbr28/PBRKOA_KOA059_042721/mr_nifti/gt_t1_head_mask.nii.gz\n",
      "\t256x256x256 voxels, 1 volumes\n",
      "\t1x1x1 mm\n",
      "* * * * * * * * * * * * * * * * * * * * * * * * * * * * * * * * * * * * * * * *\n",
      "\n",
      "[NiftyReg] Resampled image has been saved: /autofs/space/celer_001/users/leila/data/pbr28/PBRKOA_KOA059_042721/mr_nifti/t1_mask_registered.nii.gz\n"
     ]
    },
    {
     "name": "stderr",
     "output_type": "stream",
     "text": [
      " 12%|█▏        | 3/25 [00:09<01:11,  3.24s/it]"
     ]
    },
    {
     "name": "stdout",
     "output_type": "stream",
     "text": [
      "\n",
      "* * * * * * * * * * * * * * * * * * * * * * * * * * * * * * * * * * * * * * * *\n",
      "Command line:\n",
      " reg_resample -ref /autofs/space/celer_001/users/leila/data/pbr28/PBRKOA_KOA059_042721/pet_nifti/3600-180_OP.nii.gz -flo /autofs/space/celer_001/users/leila/data/pbr28/PBRKOA_KOA059_042721/mr_nifti/t1_original.nii.gz -res /autofs/space/celer_001/users/leila/data/pbr28/PBRKOA_KOA059_042721/mr_nifti/t1_img_registered.nii.gz -inter 0\n",
      "Parameters\n",
      "Reference image name: /autofs/space/celer_001/users/leila/data/pbr28/PBRKOA_KOA059_042721/pet_nifti/3600-180_OP.nii.gz\n",
      "\t344x344x127 voxels, 1 volumes\n",
      "\t2.08626x2.08626x2.03125 mm\n",
      "Floating image name: /autofs/space/celer_001/users/leila/data/pbr28/PBRKOA_KOA059_042721/mr_nifti/t1_original.nii.gz\n",
      "\t256x256x256 voxels, 1 volumes\n",
      "\t1x1x1 mm\n",
      "* * * * * * * * * * * * * * * * * * * * * * * * * * * * * * * * * * * * * * * *\n",
      "\n",
      "[NiftyReg] Resampled image has been saved: /autofs/space/celer_001/users/leila/data/pbr28/PBRKOA_KOA059_042721/mr_nifti/t1_img_registered.nii.gz\n",
      "*** MOVING FILES ***\n",
      "Converted .dcm series to .nii file\n",
      "Image size: 344 344 127\n"
     ]
    },
    {
     "name": "stderr",
     "output_type": "stream",
     "text": [
      "WARNING: In /tmp/SimpleITK-build/ITK-prefix/include/ITK-5.2/itkImageSeriesReader.hxx, line 480\n",
      "ImageSeriesReader (0x5585e83e50e0): Non uniform sampling or missing slices detected,  maximum nonuniformity:0.00124603\n",
      "\n"
     ]
    },
    {
     "name": "stdout",
     "output_type": "stream",
     "text": [
      "\n",
      "* * * * * * * * * * * * * * * * * * * * * * * * * * * * * * * * * * * * * * * *\n",
      "Command line:\n",
      " reg_resample -ref /autofs/space/celer_001/users/leila/data/pbr28/PBRKOA_KOA035_112719/pet_nifti/3600-180_OP.nii.gz -flo /autofs/space/celer_001/users/leila/data/pbr28/PBRKOA_KOA035_112719/mr_nifti/gt_t1_head_mask.nii.gz -res /autofs/space/celer_001/users/leila/data/pbr28/PBRKOA_KOA035_112719/mr_nifti/t1_mask_registered.nii.gz -inter 0\n",
      "Parameters\n",
      "Reference image name: /autofs/space/celer_001/users/leila/data/pbr28/PBRKOA_KOA035_112719/pet_nifti/3600-180_OP.nii.gz\n",
      "\t344x344x127 voxels, 1 volumes\n",
      "\t2.08626x2.08626x2.03125 mm\n",
      "Floating image name: /autofs/space/celer_001/users/leila/data/pbr28/PBRKOA_KOA035_112719/mr_nifti/gt_t1_head_mask.nii.gz\n",
      "\t256x256x256 voxels, 1 volumes\n",
      "\t1x1x1 mm\n",
      "* * * * * * * * * * * * * * * * * * * * * * * * * * * * * * * * * * * * * * * *\n",
      "\n",
      "[NiftyReg] Resampled image has been saved: /autofs/space/celer_001/users/leila/data/pbr28/PBRKOA_KOA035_112719/mr_nifti/t1_mask_registered.nii.gz\n"
     ]
    },
    {
     "name": "stderr",
     "output_type": "stream",
     "text": [
      " 16%|█▌        | 4/25 [00:12<01:03,  3.04s/it]"
     ]
    },
    {
     "name": "stdout",
     "output_type": "stream",
     "text": [
      "\n",
      "* * * * * * * * * * * * * * * * * * * * * * * * * * * * * * * * * * * * * * * *\n",
      "Command line:\n",
      " reg_resample -ref /autofs/space/celer_001/users/leila/data/pbr28/PBRKOA_KOA035_112719/pet_nifti/3600-180_OP.nii.gz -flo /autofs/space/celer_001/users/leila/data/pbr28/PBRKOA_KOA035_112719/mr_nifti/t1_original.nii.gz -res /autofs/space/celer_001/users/leila/data/pbr28/PBRKOA_KOA035_112719/mr_nifti/t1_img_registered.nii.gz -inter 0\n",
      "Parameters\n",
      "Reference image name: /autofs/space/celer_001/users/leila/data/pbr28/PBRKOA_KOA035_112719/pet_nifti/3600-180_OP.nii.gz\n",
      "\t344x344x127 voxels, 1 volumes\n",
      "\t2.08626x2.08626x2.03125 mm\n",
      "Floating image name: /autofs/space/celer_001/users/leila/data/pbr28/PBRKOA_KOA035_112719/mr_nifti/t1_original.nii.gz\n",
      "\t256x256x256 voxels, 1 volumes\n",
      "\t1x1x1 mm\n",
      "* * * * * * * * * * * * * * * * * * * * * * * * * * * * * * * * * * * * * * * *\n",
      "\n",
      "[NiftyReg] Resampled image has been saved: /autofs/space/celer_001/users/leila/data/pbr28/PBRKOA_KOA035_112719/mr_nifti/t1_img_registered.nii.gz\n",
      "*** MOVING FILES ***\n",
      "Converted .dcm series to .nii file\n",
      "Image size: 344 344 127\n"
     ]
    },
    {
     "name": "stderr",
     "output_type": "stream",
     "text": [
      "WARNING: In /tmp/SimpleITK-build/ITK-prefix/include/ITK-5.2/itkImageSeriesReader.hxx, line 480\n",
      "ImageSeriesReader (0x5585e8691a50): Non uniform sampling or missing slices detected,  maximum nonuniformity:0.00124603\n",
      "\n"
     ]
    },
    {
     "name": "stdout",
     "output_type": "stream",
     "text": [
      "\n",
      "* * * * * * * * * * * * * * * * * * * * * * * * * * * * * * * * * * * * * * * *\n",
      "Command line:\n",
      " reg_resample -ref /autofs/space/celer_001/users/leila/data/pbr28/PBRKOA_KOA029_100120/pet_nifti/3600-180_OP.nii.gz -flo /autofs/space/celer_001/users/leila/data/pbr28/PBRKOA_KOA029_100120/mr_nifti/gt_t1_head_mask.nii.gz -res /autofs/space/celer_001/users/leila/data/pbr28/PBRKOA_KOA029_100120/mr_nifti/t1_mask_registered.nii.gz -inter 0\n",
      "Parameters\n",
      "Reference image name: /autofs/space/celer_001/users/leila/data/pbr28/PBRKOA_KOA029_100120/pet_nifti/3600-180_OP.nii.gz\n",
      "\t344x344x127 voxels, 1 volumes\n",
      "\t2.08626x2.08626x2.03125 mm\n",
      "Floating image name: /autofs/space/celer_001/users/leila/data/pbr28/PBRKOA_KOA029_100120/mr_nifti/gt_t1_head_mask.nii.gz\n",
      "\t256x256x256 voxels, 1 volumes\n",
      "\t1x1x1 mm\n",
      "* * * * * * * * * * * * * * * * * * * * * * * * * * * * * * * * * * * * * * * *\n",
      "\n",
      "[NiftyReg] Resampled image has been saved: /autofs/space/celer_001/users/leila/data/pbr28/PBRKOA_KOA029_100120/mr_nifti/t1_mask_registered.nii.gz\n"
     ]
    },
    {
     "name": "stderr",
     "output_type": "stream",
     "text": [
      " 20%|██        | 5/25 [00:15<00:57,  2.88s/it]"
     ]
    },
    {
     "name": "stdout",
     "output_type": "stream",
     "text": [
      "\n",
      "* * * * * * * * * * * * * * * * * * * * * * * * * * * * * * * * * * * * * * * *\n",
      "Command line:\n",
      " reg_resample -ref /autofs/space/celer_001/users/leila/data/pbr28/PBRKOA_KOA029_100120/pet_nifti/3600-180_OP.nii.gz -flo /autofs/space/celer_001/users/leila/data/pbr28/PBRKOA_KOA029_100120/mr_nifti/t1_original.nii.gz -res /autofs/space/celer_001/users/leila/data/pbr28/PBRKOA_KOA029_100120/mr_nifti/t1_img_registered.nii.gz -inter 0\n",
      "Parameters\n",
      "Reference image name: /autofs/space/celer_001/users/leila/data/pbr28/PBRKOA_KOA029_100120/pet_nifti/3600-180_OP.nii.gz\n",
      "\t344x344x127 voxels, 1 volumes\n",
      "\t2.08626x2.08626x2.03125 mm\n",
      "Floating image name: /autofs/space/celer_001/users/leila/data/pbr28/PBRKOA_KOA029_100120/mr_nifti/t1_original.nii.gz\n",
      "\t256x256x256 voxels, 1 volumes\n",
      "\t1x1x1 mm\n",
      "* * * * * * * * * * * * * * * * * * * * * * * * * * * * * * * * * * * * * * * *\n",
      "\n",
      "[NiftyReg] Resampled image has been saved: /autofs/space/celer_001/users/leila/data/pbr28/PBRKOA_KOA029_100120/mr_nifti/t1_img_registered.nii.gz\n",
      "*** MOVING FILES ***\n",
      "Converted .dcm series to .nii file\n",
      "Image size: 344 344 127\n"
     ]
    },
    {
     "name": "stderr",
     "output_type": "stream",
     "text": [
      "WARNING: In /tmp/SimpleITK-build/ITK-prefix/include/ITK-5.2/itkImageSeriesReader.hxx, line 480\n",
      "ImageSeriesReader (0x5585e862d6b0): Non uniform sampling or missing slices detected,  maximum nonuniformity:0.000753968\n",
      "\n"
     ]
    },
    {
     "name": "stdout",
     "output_type": "stream",
     "text": [
      "\n",
      "* * * * * * * * * * * * * * * * * * * * * * * * * * * * * * * * * * * * * * * *\n",
      "Command line:\n",
      " reg_resample -ref /autofs/space/celer_001/users/leila/data/pbr28/PBRKOA_HC028_01/pet_nifti/3600-180_OP.nii.gz -flo /autofs/space/celer_001/users/leila/data/pbr28/PBRKOA_HC028_01/mr_nifti/gt_t1_head_mask.nii.gz -res /autofs/space/celer_001/users/leila/data/pbr28/PBRKOA_HC028_01/mr_nifti/t1_mask_registered.nii.gz -inter 0\n",
      "Parameters\n",
      "Reference image name: /autofs/space/celer_001/users/leila/data/pbr28/PBRKOA_HC028_01/pet_nifti/3600-180_OP.nii.gz\n",
      "\t344x344x127 voxels, 1 volumes\n",
      "\t2.08626x2.08626x2.03125 mm\n",
      "Floating image name: /autofs/space/celer_001/users/leila/data/pbr28/PBRKOA_HC028_01/mr_nifti/gt_t1_head_mask.nii.gz\n",
      "\t256x256x256 voxels, 1 volumes\n",
      "\t1x1x1 mm\n",
      "* * * * * * * * * * * * * * * * * * * * * * * * * * * * * * * * * * * * * * * *\n",
      "\n",
      "[NiftyReg] Resampled image has been saved: /autofs/space/celer_001/users/leila/data/pbr28/PBRKOA_HC028_01/mr_nifti/t1_mask_registered.nii.gz\n"
     ]
    },
    {
     "name": "stderr",
     "output_type": "stream",
     "text": [
      " 24%|██▍       | 6/25 [00:18<00:55,  2.90s/it]"
     ]
    },
    {
     "name": "stdout",
     "output_type": "stream",
     "text": [
      "\n",
      "* * * * * * * * * * * * * * * * * * * * * * * * * * * * * * * * * * * * * * * *\n",
      "Command line:\n",
      " reg_resample -ref /autofs/space/celer_001/users/leila/data/pbr28/PBRKOA_HC028_01/pet_nifti/3600-180_OP.nii.gz -flo /autofs/space/celer_001/users/leila/data/pbr28/PBRKOA_HC028_01/mr_nifti/t1_original.nii.gz -res /autofs/space/celer_001/users/leila/data/pbr28/PBRKOA_HC028_01/mr_nifti/t1_img_registered.nii.gz -inter 0\n",
      "Parameters\n",
      "Reference image name: /autofs/space/celer_001/users/leila/data/pbr28/PBRKOA_HC028_01/pet_nifti/3600-180_OP.nii.gz\n",
      "\t344x344x127 voxels, 1 volumes\n",
      "\t2.08626x2.08626x2.03125 mm\n",
      "Floating image name: /autofs/space/celer_001/users/leila/data/pbr28/PBRKOA_HC028_01/mr_nifti/t1_original.nii.gz\n",
      "\t256x256x256 voxels, 1 volumes\n",
      "\t1x1x1 mm\n",
      "* * * * * * * * * * * * * * * * * * * * * * * * * * * * * * * * * * * * * * * *\n",
      "\n",
      "[NiftyReg] Resampled image has been saved: /autofs/space/celer_001/users/leila/data/pbr28/PBRKOA_HC028_01/mr_nifti/t1_img_registered.nii.gz\n",
      "*** MOVING FILES ***\n",
      "Converted .dcm series to .nii file\n",
      "Image size: 344 344 127\n"
     ]
    },
    {
     "name": "stderr",
     "output_type": "stream",
     "text": [
      "WARNING: In /tmp/SimpleITK-build/ITK-prefix/include/ITK-5.2/itkImageSeriesReader.hxx, line 480\n",
      "ImageSeriesReader (0x5585e73202d0): Non uniform sampling or missing slices detected,  maximum nonuniformity:0.00124603\n",
      "\n"
     ]
    },
    {
     "name": "stdout",
     "output_type": "stream",
     "text": [
      "\n",
      "* * * * * * * * * * * * * * * * * * * * * * * * * * * * * * * * * * * * * * * *\n",
      "Command line:\n",
      " reg_resample -ref /autofs/space/celer_001/users/leila/data/pbr28/PBRKOA_HC043_01/pet_nifti/3600-180_OP.nii.gz -flo /autofs/space/celer_001/users/leila/data/pbr28/PBRKOA_HC043_01/mr_nifti/gt_t1_head_mask.nii.gz -res /autofs/space/celer_001/users/leila/data/pbr28/PBRKOA_HC043_01/mr_nifti/t1_mask_registered.nii.gz -inter 0\n",
      "Parameters\n",
      "Reference image name: /autofs/space/celer_001/users/leila/data/pbr28/PBRKOA_HC043_01/pet_nifti/3600-180_OP.nii.gz\n",
      "\t344x344x127 voxels, 1 volumes\n",
      "\t2.08626x2.08626x2.03125 mm\n",
      "Floating image name: /autofs/space/celer_001/users/leila/data/pbr28/PBRKOA_HC043_01/mr_nifti/gt_t1_head_mask.nii.gz\n",
      "\t256x256x256 voxels, 1 volumes\n",
      "\t1x1x1 mm\n",
      "* * * * * * * * * * * * * * * * * * * * * * * * * * * * * * * * * * * * * * * *\n",
      "\n",
      "[NiftyReg] Resampled image has been saved: /autofs/space/celer_001/users/leila/data/pbr28/PBRKOA_HC043_01/mr_nifti/t1_mask_registered.nii.gz\n"
     ]
    },
    {
     "name": "stderr",
     "output_type": "stream",
     "text": [
      " 28%|██▊       | 7/25 [00:21<00:52,  2.92s/it]"
     ]
    },
    {
     "name": "stdout",
     "output_type": "stream",
     "text": [
      "\n",
      "* * * * * * * * * * * * * * * * * * * * * * * * * * * * * * * * * * * * * * * *\n",
      "Command line:\n",
      " reg_resample -ref /autofs/space/celer_001/users/leila/data/pbr28/PBRKOA_HC043_01/pet_nifti/3600-180_OP.nii.gz -flo /autofs/space/celer_001/users/leila/data/pbr28/PBRKOA_HC043_01/mr_nifti/t1_original.nii.gz -res /autofs/space/celer_001/users/leila/data/pbr28/PBRKOA_HC043_01/mr_nifti/t1_img_registered.nii.gz -inter 0\n",
      "Parameters\n",
      "Reference image name: /autofs/space/celer_001/users/leila/data/pbr28/PBRKOA_HC043_01/pet_nifti/3600-180_OP.nii.gz\n",
      "\t344x344x127 voxels, 1 volumes\n",
      "\t2.08626x2.08626x2.03125 mm\n",
      "Floating image name: /autofs/space/celer_001/users/leila/data/pbr28/PBRKOA_HC043_01/mr_nifti/t1_original.nii.gz\n",
      "\t256x256x256 voxels, 1 volumes\n",
      "\t1x1x1 mm\n",
      "* * * * * * * * * * * * * * * * * * * * * * * * * * * * * * * * * * * * * * * *\n",
      "\n",
      "[NiftyReg] Resampled image has been saved: /autofs/space/celer_001/users/leila/data/pbr28/PBRKOA_HC043_01/mr_nifti/t1_img_registered.nii.gz\n",
      "*** MOVING FILES ***\n",
      "Converted .dcm series to .nii file\n",
      "Image size: 344 344 127\n"
     ]
    },
    {
     "name": "stderr",
     "output_type": "stream",
     "text": [
      "WARNING: In /tmp/SimpleITK-build/ITK-prefix/include/ITK-5.2/itkImageSeriesReader.hxx, line 480\n",
      "ImageSeriesReader (0x5585e7320930): Non uniform sampling or missing slices detected,  maximum nonuniformity:0.00124603\n",
      "\n"
     ]
    },
    {
     "name": "stdout",
     "output_type": "stream",
     "text": [
      "\n",
      "* * * * * * * * * * * * * * * * * * * * * * * * * * * * * * * * * * * * * * * *\n",
      "Command line:\n",
      " reg_resample -ref /autofs/space/celer_001/users/leila/data/pbr28/PBRKOA_KOA013_121818/pet_nifti/3600-180_OP.nii.gz -flo /autofs/space/celer_001/users/leila/data/pbr28/PBRKOA_KOA013_121818/mr_nifti/gt_t1_head_mask.nii.gz -res /autofs/space/celer_001/users/leila/data/pbr28/PBRKOA_KOA013_121818/mr_nifti/t1_mask_registered.nii.gz -inter 0\n",
      "Parameters\n",
      "Reference image name: /autofs/space/celer_001/users/leila/data/pbr28/PBRKOA_KOA013_121818/pet_nifti/3600-180_OP.nii.gz\n",
      "\t344x344x127 voxels, 1 volumes\n",
      "\t2.08626x2.08626x2.03125 mm\n",
      "Floating image name: /autofs/space/celer_001/users/leila/data/pbr28/PBRKOA_KOA013_121818/mr_nifti/gt_t1_head_mask.nii.gz\n",
      "\t256x256x256 voxels, 1 volumes\n",
      "\t1x1x1 mm\n",
      "* * * * * * * * * * * * * * * * * * * * * * * * * * * * * * * * * * * * * * * *\n",
      "\n",
      "[NiftyReg] Resampled image has been saved: /autofs/space/celer_001/users/leila/data/pbr28/PBRKOA_KOA013_121818/mr_nifti/t1_mask_registered.nii.gz\n"
     ]
    },
    {
     "name": "stderr",
     "output_type": "stream",
     "text": [
      " 32%|███▏      | 8/25 [00:23<00:48,  2.86s/it]"
     ]
    },
    {
     "name": "stdout",
     "output_type": "stream",
     "text": [
      "\n",
      "* * * * * * * * * * * * * * * * * * * * * * * * * * * * * * * * * * * * * * * *\n",
      "Command line:\n",
      " reg_resample -ref /autofs/space/celer_001/users/leila/data/pbr28/PBRKOA_KOA013_121818/pet_nifti/3600-180_OP.nii.gz -flo /autofs/space/celer_001/users/leila/data/pbr28/PBRKOA_KOA013_121818/mr_nifti/t1_original.nii.gz -res /autofs/space/celer_001/users/leila/data/pbr28/PBRKOA_KOA013_121818/mr_nifti/t1_img_registered.nii.gz -inter 0\n",
      "Parameters\n",
      "Reference image name: /autofs/space/celer_001/users/leila/data/pbr28/PBRKOA_KOA013_121818/pet_nifti/3600-180_OP.nii.gz\n",
      "\t344x344x127 voxels, 1 volumes\n",
      "\t2.08626x2.08626x2.03125 mm\n",
      "Floating image name: /autofs/space/celer_001/users/leila/data/pbr28/PBRKOA_KOA013_121818/mr_nifti/t1_original.nii.gz\n",
      "\t256x256x256 voxels, 1 volumes\n",
      "\t1x1x1 mm\n",
      "* * * * * * * * * * * * * * * * * * * * * * * * * * * * * * * * * * * * * * * *\n",
      "\n",
      "[NiftyReg] Resampled image has been saved: /autofs/space/celer_001/users/leila/data/pbr28/PBRKOA_KOA013_121818/mr_nifti/t1_img_registered.nii.gz\n",
      "*** MOVING FILES ***\n",
      "Converted .dcm series to .nii file\n",
      "Image size: 344 344 127\n"
     ]
    },
    {
     "name": "stderr",
     "output_type": "stream",
     "text": [
      "WARNING: In /tmp/SimpleITK-build/ITK-prefix/include/ITK-5.2/itkImageSeriesReader.hxx, line 480\n",
      "ImageSeriesReader (0x5585e8385100): Non uniform sampling or missing slices detected,  maximum nonuniformity:0.00124603\n",
      "\n"
     ]
    },
    {
     "name": "stdout",
     "output_type": "stream",
     "text": [
      "\n",
      "* * * * * * * * * * * * * * * * * * * * * * * * * * * * * * * * * * * * * * * *\n",
      "Command line:\n",
      " reg_resample -ref /autofs/space/celer_001/users/leila/data/pbr28/PBRKOA_KOA039_121819/pet_nifti/3600-180_OP.nii.gz -flo /autofs/space/celer_001/users/leila/data/pbr28/PBRKOA_KOA039_121819/mr_nifti/gt_t1_head_mask.nii.gz -res /autofs/space/celer_001/users/leila/data/pbr28/PBRKOA_KOA039_121819/mr_nifti/t1_mask_registered.nii.gz -inter 0\n",
      "Parameters\n",
      "Reference image name: /autofs/space/celer_001/users/leila/data/pbr28/PBRKOA_KOA039_121819/pet_nifti/3600-180_OP.nii.gz\n",
      "\t344x344x127 voxels, 1 volumes\n",
      "\t2.08626x2.08626x2.03125 mm\n",
      "Floating image name: /autofs/space/celer_001/users/leila/data/pbr28/PBRKOA_KOA039_121819/mr_nifti/gt_t1_head_mask.nii.gz\n",
      "\t256x256x256 voxels, 1 volumes\n",
      "\t1x1x1 mm\n",
      "* * * * * * * * * * * * * * * * * * * * * * * * * * * * * * * * * * * * * * * *\n",
      "\n",
      "[NiftyReg] Resampled image has been saved: /autofs/space/celer_001/users/leila/data/pbr28/PBRKOA_KOA039_121819/mr_nifti/t1_mask_registered.nii.gz\n"
     ]
    },
    {
     "name": "stderr",
     "output_type": "stream",
     "text": [
      " 36%|███▌      | 9/25 [00:26<00:45,  2.86s/it]"
     ]
    },
    {
     "name": "stdout",
     "output_type": "stream",
     "text": [
      "\n",
      "* * * * * * * * * * * * * * * * * * * * * * * * * * * * * * * * * * * * * * * *\n",
      "Command line:\n",
      " reg_resample -ref /autofs/space/celer_001/users/leila/data/pbr28/PBRKOA_KOA039_121819/pet_nifti/3600-180_OP.nii.gz -flo /autofs/space/celer_001/users/leila/data/pbr28/PBRKOA_KOA039_121819/mr_nifti/t1_original.nii.gz -res /autofs/space/celer_001/users/leila/data/pbr28/PBRKOA_KOA039_121819/mr_nifti/t1_img_registered.nii.gz -inter 0\n",
      "Parameters\n",
      "Reference image name: /autofs/space/celer_001/users/leila/data/pbr28/PBRKOA_KOA039_121819/pet_nifti/3600-180_OP.nii.gz\n",
      "\t344x344x127 voxels, 1 volumes\n",
      "\t2.08626x2.08626x2.03125 mm\n",
      "Floating image name: /autofs/space/celer_001/users/leila/data/pbr28/PBRKOA_KOA039_121819/mr_nifti/t1_original.nii.gz\n",
      "\t256x256x256 voxels, 1 volumes\n",
      "\t1x1x1 mm\n",
      "* * * * * * * * * * * * * * * * * * * * * * * * * * * * * * * * * * * * * * * *\n",
      "\n",
      "[NiftyReg] Resampled image has been saved: /autofs/space/celer_001/users/leila/data/pbr28/PBRKOA_KOA039_121819/mr_nifti/t1_img_registered.nii.gz\n",
      "*** MOVING FILES ***\n",
      "Converted .dcm series to .nii file\n",
      "Image size: 344 344 127\n"
     ]
    },
    {
     "name": "stderr",
     "output_type": "stream",
     "text": [
      "WARNING: In /tmp/SimpleITK-build/ITK-prefix/include/ITK-5.2/itkImageSeriesReader.hxx, line 480\n",
      "ImageSeriesReader (0x5585e7320100): Non uniform sampling or missing slices detected,  maximum nonuniformity:0.00124603\n",
      "\n"
     ]
    },
    {
     "name": "stdout",
     "output_type": "stream",
     "text": [
      "\n",
      "* * * * * * * * * * * * * * * * * * * * * * * * * * * * * * * * * * * * * * * *\n",
      "Command line:\n",
      " reg_resample -ref /autofs/space/celer_001/users/leila/data/pbr28/PBRKOA_KOA051_110521/pet_nifti/3600-180_OP.nii.gz -flo /autofs/space/celer_001/users/leila/data/pbr28/PBRKOA_KOA051_110521/mr_nifti/gt_t1_head_mask.nii.gz -res /autofs/space/celer_001/users/leila/data/pbr28/PBRKOA_KOA051_110521/mr_nifti/t1_mask_registered.nii.gz -inter 0\n",
      "Parameters\n",
      "Reference image name: /autofs/space/celer_001/users/leila/data/pbr28/PBRKOA_KOA051_110521/pet_nifti/3600-180_OP.nii.gz\n",
      "\t344x344x127 voxels, 1 volumes\n",
      "\t2.08626x2.08626x2.03125 mm\n",
      "Floating image name: /autofs/space/celer_001/users/leila/data/pbr28/PBRKOA_KOA051_110521/mr_nifti/gt_t1_head_mask.nii.gz\n",
      "\t256x256x256 voxels, 1 volumes\n",
      "\t1x1x1 mm\n",
      "* * * * * * * * * * * * * * * * * * * * * * * * * * * * * * * * * * * * * * * *\n",
      "\n",
      "[NiftyReg] Resampled image has been saved: /autofs/space/celer_001/users/leila/data/pbr28/PBRKOA_KOA051_110521/mr_nifti/t1_mask_registered.nii.gz\n"
     ]
    },
    {
     "name": "stderr",
     "output_type": "stream",
     "text": [
      " 40%|████      | 10/25 [00:29<00:43,  2.87s/it]"
     ]
    },
    {
     "name": "stdout",
     "output_type": "stream",
     "text": [
      "\n",
      "* * * * * * * * * * * * * * * * * * * * * * * * * * * * * * * * * * * * * * * *\n",
      "Command line:\n",
      " reg_resample -ref /autofs/space/celer_001/users/leila/data/pbr28/PBRKOA_KOA051_110521/pet_nifti/3600-180_OP.nii.gz -flo /autofs/space/celer_001/users/leila/data/pbr28/PBRKOA_KOA051_110521/mr_nifti/t1_original.nii.gz -res /autofs/space/celer_001/users/leila/data/pbr28/PBRKOA_KOA051_110521/mr_nifti/t1_img_registered.nii.gz -inter 0\n",
      "Parameters\n",
      "Reference image name: /autofs/space/celer_001/users/leila/data/pbr28/PBRKOA_KOA051_110521/pet_nifti/3600-180_OP.nii.gz\n",
      "\t344x344x127 voxels, 1 volumes\n",
      "\t2.08626x2.08626x2.03125 mm\n",
      "Floating image name: /autofs/space/celer_001/users/leila/data/pbr28/PBRKOA_KOA051_110521/mr_nifti/t1_original.nii.gz\n",
      "\t256x256x256 voxels, 1 volumes\n",
      "\t1x1x1 mm\n",
      "* * * * * * * * * * * * * * * * * * * * * * * * * * * * * * * * * * * * * * * *\n",
      "\n",
      "[NiftyReg] Resampled image has been saved: /autofs/space/celer_001/users/leila/data/pbr28/PBRKOA_KOA051_110521/mr_nifti/t1_img_registered.nii.gz\n",
      "*** MOVING FILES ***\n",
      "Converted .dcm series to .nii file\n",
      "Image size: 344 344 127\n"
     ]
    },
    {
     "name": "stderr",
     "output_type": "stream",
     "text": [
      "WARNING: In /tmp/SimpleITK-build/ITK-prefix/include/ITK-5.2/itkImageSeriesReader.hxx, line 480\n",
      "ImageSeriesReader (0x5585e6ff4480): Non uniform sampling or missing slices detected,  maximum nonuniformity:0.00124603\n",
      "\n"
     ]
    },
    {
     "name": "stdout",
     "output_type": "stream",
     "text": [
      "\n",
      "* * * * * * * * * * * * * * * * * * * * * * * * * * * * * * * * * * * * * * * *\n",
      "Command line:\n",
      " reg_resample -ref /autofs/space/celer_001/users/leila/data/pbr28/PBRKOA_KOA047_080420/pet_nifti/3600-180_OP.nii.gz -flo /autofs/space/celer_001/users/leila/data/pbr28/PBRKOA_KOA047_080420/mr_nifti/gt_t1_head_mask.nii.gz -res /autofs/space/celer_001/users/leila/data/pbr28/PBRKOA_KOA047_080420/mr_nifti/t1_mask_registered.nii.gz -inter 0\n",
      "Parameters\n",
      "Reference image name: /autofs/space/celer_001/users/leila/data/pbr28/PBRKOA_KOA047_080420/pet_nifti/3600-180_OP.nii.gz\n",
      "\t344x344x127 voxels, 1 volumes\n",
      "\t2.08626x2.08626x2.03125 mm\n",
      "Floating image name: /autofs/space/celer_001/users/leila/data/pbr28/PBRKOA_KOA047_080420/mr_nifti/gt_t1_head_mask.nii.gz\n",
      "\t256x256x256 voxels, 1 volumes\n",
      "\t1x1x1 mm\n",
      "* * * * * * * * * * * * * * * * * * * * * * * * * * * * * * * * * * * * * * * *\n",
      "\n",
      "[NiftyReg] Resampled image has been saved: /autofs/space/celer_001/users/leila/data/pbr28/PBRKOA_KOA047_080420/mr_nifti/t1_mask_registered.nii.gz\n"
     ]
    },
    {
     "name": "stderr",
     "output_type": "stream",
     "text": [
      " 44%|████▍     | 11/25 [00:32<00:39,  2.84s/it]"
     ]
    },
    {
     "name": "stdout",
     "output_type": "stream",
     "text": [
      "\n",
      "* * * * * * * * * * * * * * * * * * * * * * * * * * * * * * * * * * * * * * * *\n",
      "Command line:\n",
      " reg_resample -ref /autofs/space/celer_001/users/leila/data/pbr28/PBRKOA_KOA047_080420/pet_nifti/3600-180_OP.nii.gz -flo /autofs/space/celer_001/users/leila/data/pbr28/PBRKOA_KOA047_080420/mr_nifti/t1_original.nii.gz -res /autofs/space/celer_001/users/leila/data/pbr28/PBRKOA_KOA047_080420/mr_nifti/t1_img_registered.nii.gz -inter 0\n",
      "Parameters\n",
      "Reference image name: /autofs/space/celer_001/users/leila/data/pbr28/PBRKOA_KOA047_080420/pet_nifti/3600-180_OP.nii.gz\n",
      "\t344x344x127 voxels, 1 volumes\n",
      "\t2.08626x2.08626x2.03125 mm\n",
      "Floating image name: /autofs/space/celer_001/users/leila/data/pbr28/PBRKOA_KOA047_080420/mr_nifti/t1_original.nii.gz\n",
      "\t256x256x256 voxels, 1 volumes\n",
      "\t1x1x1 mm\n",
      "* * * * * * * * * * * * * * * * * * * * * * * * * * * * * * * * * * * * * * * *\n",
      "\n",
      "[NiftyReg] Resampled image has been saved: /autofs/space/celer_001/users/leila/data/pbr28/PBRKOA_KOA047_080420/mr_nifti/t1_img_registered.nii.gz\n",
      "*** MOVING FILES ***\n",
      "Converted .dcm series to .nii file\n",
      "Image size: 344 344 127\n"
     ]
    },
    {
     "name": "stderr",
     "output_type": "stream",
     "text": [
      "WARNING: In /tmp/SimpleITK-build/ITK-prefix/include/ITK-5.2/itkImageSeriesReader.hxx, line 480\n",
      "ImageSeriesReader (0x5585e67f5250): Non uniform sampling or missing slices detected,  maximum nonuniformity:0.00124603\n",
      "\n"
     ]
    },
    {
     "name": "stdout",
     "output_type": "stream",
     "text": [
      "\n",
      "* * * * * * * * * * * * * * * * * * * * * * * * * * * * * * * * * * * * * * * *\n",
      "Command line:\n",
      " reg_resample -ref /autofs/space/celer_001/users/leila/data/pbr28/PBRKOA_KOA029_091019/pet_nifti/3600-180_OP.nii.gz -flo /autofs/space/celer_001/users/leila/data/pbr28/PBRKOA_KOA029_091019/mr_nifti/gt_t1_head_mask.nii.gz -res /autofs/space/celer_001/users/leila/data/pbr28/PBRKOA_KOA029_091019/mr_nifti/t1_mask_registered.nii.gz -inter 0\n",
      "Parameters\n",
      "Reference image name: /autofs/space/celer_001/users/leila/data/pbr28/PBRKOA_KOA029_091019/pet_nifti/3600-180_OP.nii.gz\n",
      "\t344x344x127 voxels, 1 volumes\n",
      "\t2.08626x2.08626x2.03125 mm\n",
      "Floating image name: /autofs/space/celer_001/users/leila/data/pbr28/PBRKOA_KOA029_091019/mr_nifti/gt_t1_head_mask.nii.gz\n",
      "\t256x256x256 voxels, 1 volumes\n",
      "\t1x1x1 mm\n",
      "* * * * * * * * * * * * * * * * * * * * * * * * * * * * * * * * * * * * * * * *\n",
      "\n",
      "[NiftyReg] Resampled image has been saved: /autofs/space/celer_001/users/leila/data/pbr28/PBRKOA_KOA029_091019/mr_nifti/t1_mask_registered.nii.gz\n"
     ]
    },
    {
     "name": "stderr",
     "output_type": "stream",
     "text": [
      " 48%|████▊     | 12/25 [00:35<00:36,  2.78s/it]"
     ]
    },
    {
     "name": "stdout",
     "output_type": "stream",
     "text": [
      "\n",
      "* * * * * * * * * * * * * * * * * * * * * * * * * * * * * * * * * * * * * * * *\n",
      "Command line:\n",
      " reg_resample -ref /autofs/space/celer_001/users/leila/data/pbr28/PBRKOA_KOA029_091019/pet_nifti/3600-180_OP.nii.gz -flo /autofs/space/celer_001/users/leila/data/pbr28/PBRKOA_KOA029_091019/mr_nifti/t1_original.nii.gz -res /autofs/space/celer_001/users/leila/data/pbr28/PBRKOA_KOA029_091019/mr_nifti/t1_img_registered.nii.gz -inter 0\n",
      "Parameters\n",
      "Reference image name: /autofs/space/celer_001/users/leila/data/pbr28/PBRKOA_KOA029_091019/pet_nifti/3600-180_OP.nii.gz\n",
      "\t344x344x127 voxels, 1 volumes\n",
      "\t2.08626x2.08626x2.03125 mm\n",
      "Floating image name: /autofs/space/celer_001/users/leila/data/pbr28/PBRKOA_KOA029_091019/mr_nifti/t1_original.nii.gz\n",
      "\t256x256x256 voxels, 1 volumes\n",
      "\t1x1x1 mm\n",
      "* * * * * * * * * * * * * * * * * * * * * * * * * * * * * * * * * * * * * * * *\n",
      "\n",
      "[NiftyReg] Resampled image has been saved: /autofs/space/celer_001/users/leila/data/pbr28/PBRKOA_KOA029_091019/mr_nifti/t1_img_registered.nii.gz\n",
      "*** MOVING FILES ***\n",
      "Converted .dcm series to .nii file\n",
      "Image size: 344 344 127\n"
     ]
    },
    {
     "name": "stderr",
     "output_type": "stream",
     "text": [
      "WARNING: In /tmp/SimpleITK-build/ITK-prefix/include/ITK-5.2/itkImageSeriesReader.hxx, line 480\n",
      "ImageSeriesReader (0x5585e6803e00): Non uniform sampling or missing slices detected,  maximum nonuniformity:0.000753968\n",
      "\n"
     ]
    },
    {
     "name": "stdout",
     "output_type": "stream",
     "text": [
      "\n",
      "* * * * * * * * * * * * * * * * * * * * * * * * * * * * * * * * * * * * * * * *\n",
      "Command line:\n",
      " reg_resample -ref /autofs/space/celer_001/users/leila/data/pbr28/PBRKOA_KOA030_112519/pet_nifti/3600-180_OP.nii.gz -flo /autofs/space/celer_001/users/leila/data/pbr28/PBRKOA_KOA030_112519/mr_nifti/gt_t1_head_mask.nii.gz -res /autofs/space/celer_001/users/leila/data/pbr28/PBRKOA_KOA030_112519/mr_nifti/t1_mask_registered.nii.gz -inter 0\n",
      "Parameters\n",
      "Reference image name: /autofs/space/celer_001/users/leila/data/pbr28/PBRKOA_KOA030_112519/pet_nifti/3600-180_OP.nii.gz\n",
      "\t344x344x127 voxels, 1 volumes\n",
      "\t2.08626x2.08626x2.03125 mm\n",
      "Floating image name: /autofs/space/celer_001/users/leila/data/pbr28/PBRKOA_KOA030_112519/mr_nifti/gt_t1_head_mask.nii.gz\n",
      "\t256x256x256 voxels, 1 volumes\n",
      "\t1x1x1 mm\n",
      "* * * * * * * * * * * * * * * * * * * * * * * * * * * * * * * * * * * * * * * *\n",
      "\n",
      "[NiftyReg] Resampled image has been saved: /autofs/space/celer_001/users/leila/data/pbr28/PBRKOA_KOA030_112519/mr_nifti/t1_mask_registered.nii.gz\n"
     ]
    },
    {
     "name": "stderr",
     "output_type": "stream",
     "text": [
      " 52%|█████▏    | 13/25 [00:38<00:34,  2.87s/it]"
     ]
    },
    {
     "name": "stdout",
     "output_type": "stream",
     "text": [
      "\n",
      "* * * * * * * * * * * * * * * * * * * * * * * * * * * * * * * * * * * * * * * *\n",
      "Command line:\n",
      " reg_resample -ref /autofs/space/celer_001/users/leila/data/pbr28/PBRKOA_KOA030_112519/pet_nifti/3600-180_OP.nii.gz -flo /autofs/space/celer_001/users/leila/data/pbr28/PBRKOA_KOA030_112519/mr_nifti/t1_original.nii.gz -res /autofs/space/celer_001/users/leila/data/pbr28/PBRKOA_KOA030_112519/mr_nifti/t1_img_registered.nii.gz -inter 0\n",
      "Parameters\n",
      "Reference image name: /autofs/space/celer_001/users/leila/data/pbr28/PBRKOA_KOA030_112519/pet_nifti/3600-180_OP.nii.gz\n",
      "\t344x344x127 voxels, 1 volumes\n",
      "\t2.08626x2.08626x2.03125 mm\n",
      "Floating image name: /autofs/space/celer_001/users/leila/data/pbr28/PBRKOA_KOA030_112519/mr_nifti/t1_original.nii.gz\n",
      "\t256x256x256 voxels, 1 volumes\n",
      "\t1x1x1 mm\n",
      "* * * * * * * * * * * * * * * * * * * * * * * * * * * * * * * * * * * * * * * *\n",
      "\n",
      "[NiftyReg] Resampled image has been saved: /autofs/space/celer_001/users/leila/data/pbr28/PBRKOA_KOA030_112519/mr_nifti/t1_img_registered.nii.gz\n",
      "*** MOVING FILES ***\n"
     ]
    },
    {
     "name": "stderr",
     "output_type": "stream",
     "text": [
      "WARNING: In /tmp/SimpleITK-build/ITK-prefix/include/ITK-5.2/itkImageSeriesReader.hxx, line 480\n",
      "ImageSeriesReader (0x5585e6803e00): Non uniform sampling or missing slices detected,  maximum nonuniformity:0.00124603\n",
      "\n"
     ]
    },
    {
     "name": "stdout",
     "output_type": "stream",
     "text": [
      "Converted .dcm series to .nii file\n",
      "Image size: 344 344 127\n",
      "\n",
      "* * * * * * * * * * * * * * * * * * * * * * * * * * * * * * * * * * * * * * * *\n",
      "Command line:\n",
      " reg_resample -ref /autofs/space/celer_001/users/leila/data/pbr28/PBRKOA_HC010/pet_nifti/3600-180_OP.nii.gz -flo /autofs/space/celer_001/users/leila/data/pbr28/PBRKOA_HC010/mr_nifti/gt_t1_head_mask.nii.gz -res /autofs/space/celer_001/users/leila/data/pbr28/PBRKOA_HC010/mr_nifti/t1_mask_registered.nii.gz -inter 0\n",
      "Parameters\n",
      "Reference image name: /autofs/space/celer_001/users/leila/data/pbr28/PBRKOA_HC010/pet_nifti/3600-180_OP.nii.gz\n",
      "\t344x344x127 voxels, 1 volumes\n",
      "\t2.08626x2.08626x2.03125 mm\n",
      "Floating image name: /autofs/space/celer_001/users/leila/data/pbr28/PBRKOA_HC010/mr_nifti/gt_t1_head_mask.nii.gz\n",
      "\t256x256x256 voxels, 1 volumes\n",
      "\t1x1x1 mm\n",
      "* * * * * * * * * * * * * * * * * * * * * * * * * * * * * * * * * * * * * * * *\n",
      "\n",
      "[NiftyReg] Resampled image has been saved: /autofs/space/celer_001/users/leila/data/pbr28/PBRKOA_HC010/mr_nifti/t1_mask_registered.nii.gz\n"
     ]
    },
    {
     "name": "stderr",
     "output_type": "stream",
     "text": [
      " 56%|█████▌    | 14/25 [00:41<00:32,  2.99s/it]"
     ]
    },
    {
     "name": "stdout",
     "output_type": "stream",
     "text": [
      "\n",
      "* * * * * * * * * * * * * * * * * * * * * * * * * * * * * * * * * * * * * * * *\n",
      "Command line:\n",
      " reg_resample -ref /autofs/space/celer_001/users/leila/data/pbr28/PBRKOA_HC010/pet_nifti/3600-180_OP.nii.gz -flo /autofs/space/celer_001/users/leila/data/pbr28/PBRKOA_HC010/mr_nifti/t1_original.nii.gz -res /autofs/space/celer_001/users/leila/data/pbr28/PBRKOA_HC010/mr_nifti/t1_img_registered.nii.gz -inter 0\n",
      "Parameters\n",
      "Reference image name: /autofs/space/celer_001/users/leila/data/pbr28/PBRKOA_HC010/pet_nifti/3600-180_OP.nii.gz\n",
      "\t344x344x127 voxels, 1 volumes\n",
      "\t2.08626x2.08626x2.03125 mm\n",
      "Floating image name: /autofs/space/celer_001/users/leila/data/pbr28/PBRKOA_HC010/mr_nifti/t1_original.nii.gz\n",
      "\t256x256x256 voxels, 1 volumes\n",
      "\t1x1x1 mm\n",
      "* * * * * * * * * * * * * * * * * * * * * * * * * * * * * * * * * * * * * * * *\n",
      "\n",
      "[NiftyReg] Resampled image has been saved: /autofs/space/celer_001/users/leila/data/pbr28/PBRKOA_HC010/mr_nifti/t1_img_registered.nii.gz\n",
      "*** MOVING FILES ***\n",
      "Converted .dcm series to .nii file\n",
      "Image size: 344 344 127\n"
     ]
    },
    {
     "name": "stderr",
     "output_type": "stream",
     "text": [
      "WARNING: In /tmp/SimpleITK-build/ITK-prefix/include/ITK-5.2/itkImageSeriesReader.hxx, line 480\n",
      "ImageSeriesReader (0x5585e8456f20): Non uniform sampling or missing slices detected,  maximum nonuniformity:0.00124603\n",
      "\n"
     ]
    },
    {
     "name": "stdout",
     "output_type": "stream",
     "text": [
      "\n",
      "* * * * * * * * * * * * * * * * * * * * * * * * * * * * * * * * * * * * * * * *\n",
      "Command line:\n",
      " reg_resample -ref /autofs/space/celer_001/users/leila/data/pbr28/PBRKOA_KOA018_051719/pet_nifti/3600-180_OP.nii.gz -flo /autofs/space/celer_001/users/leila/data/pbr28/PBRKOA_KOA018_051719/mr_nifti/gt_t1_head_mask.nii.gz -res /autofs/space/celer_001/users/leila/data/pbr28/PBRKOA_KOA018_051719/mr_nifti/t1_mask_registered.nii.gz -inter 0\n",
      "Parameters\n",
      "Reference image name: /autofs/space/celer_001/users/leila/data/pbr28/PBRKOA_KOA018_051719/pet_nifti/3600-180_OP.nii.gz\n",
      "\t344x344x127 voxels, 1 volumes\n",
      "\t2.08626x2.08626x2.03125 mm\n",
      "Floating image name: /autofs/space/celer_001/users/leila/data/pbr28/PBRKOA_KOA018_051719/mr_nifti/gt_t1_head_mask.nii.gz\n",
      "\t256x256x256 voxels, 1 volumes\n",
      "\t1x1x1 mm\n",
      "* * * * * * * * * * * * * * * * * * * * * * * * * * * * * * * * * * * * * * * *\n",
      "\n",
      "[NiftyReg] Resampled image has been saved: /autofs/space/celer_001/users/leila/data/pbr28/PBRKOA_KOA018_051719/mr_nifti/t1_mask_registered.nii.gz\n"
     ]
    },
    {
     "name": "stderr",
     "output_type": "stream",
     "text": [
      " 60%|██████    | 15/25 [00:44<00:30,  3.07s/it]"
     ]
    },
    {
     "name": "stdout",
     "output_type": "stream",
     "text": [
      "\n",
      "* * * * * * * * * * * * * * * * * * * * * * * * * * * * * * * * * * * * * * * *\n",
      "Command line:\n",
      " reg_resample -ref /autofs/space/celer_001/users/leila/data/pbr28/PBRKOA_KOA018_051719/pet_nifti/3600-180_OP.nii.gz -flo /autofs/space/celer_001/users/leila/data/pbr28/PBRKOA_KOA018_051719/mr_nifti/t1_original.nii.gz -res /autofs/space/celer_001/users/leila/data/pbr28/PBRKOA_KOA018_051719/mr_nifti/t1_img_registered.nii.gz -inter 0\n",
      "Parameters\n",
      "Reference image name: /autofs/space/celer_001/users/leila/data/pbr28/PBRKOA_KOA018_051719/pet_nifti/3600-180_OP.nii.gz\n",
      "\t344x344x127 voxels, 1 volumes\n",
      "\t2.08626x2.08626x2.03125 mm\n",
      "Floating image name: /autofs/space/celer_001/users/leila/data/pbr28/PBRKOA_KOA018_051719/mr_nifti/t1_original.nii.gz\n",
      "\t256x256x256 voxels, 1 volumes\n",
      "\t1x1x1 mm\n",
      "* * * * * * * * * * * * * * * * * * * * * * * * * * * * * * * * * * * * * * * *\n",
      "\n",
      "[NiftyReg] Resampled image has been saved: /autofs/space/celer_001/users/leila/data/pbr28/PBRKOA_KOA018_051719/mr_nifti/t1_img_registered.nii.gz\n",
      "*** MOVING FILES ***\n",
      "Converted .dcm series to .nii file\n",
      "Image size: 344 344 127\n"
     ]
    },
    {
     "name": "stderr",
     "output_type": "stream",
     "text": [
      "WARNING: In /tmp/SimpleITK-build/ITK-prefix/include/ITK-5.2/itkImageSeriesReader.hxx, line 480\n",
      "ImageSeriesReader (0x5585e67f5250): Non uniform sampling or missing slices detected,  maximum nonuniformity:0.00124603\n",
      "\n"
     ]
    },
    {
     "name": "stdout",
     "output_type": "stream",
     "text": [
      "\n",
      "* * * * * * * * * * * * * * * * * * * * * * * * * * * * * * * * * * * * * * * *\n",
      "Command line:\n",
      " reg_resample -ref /autofs/space/celer_001/users/leila/data/pbr28/PBRKOA_KOA013_112018/pet_nifti/3600-180_OP.nii.gz -flo /autofs/space/celer_001/users/leila/data/pbr28/PBRKOA_KOA013_112018/mr_nifti/gt_t1_head_mask.nii.gz -res /autofs/space/celer_001/users/leila/data/pbr28/PBRKOA_KOA013_112018/mr_nifti/t1_mask_registered.nii.gz -inter 0\n",
      "Parameters\n",
      "Reference image name: /autofs/space/celer_001/users/leila/data/pbr28/PBRKOA_KOA013_112018/pet_nifti/3600-180_OP.nii.gz\n",
      "\t344x344x127 voxels, 1 volumes\n",
      "\t2.08626x2.08626x2.03125 mm\n",
      "Floating image name: /autofs/space/celer_001/users/leila/data/pbr28/PBRKOA_KOA013_112018/mr_nifti/gt_t1_head_mask.nii.gz\n",
      "\t256x256x256 voxels, 1 volumes\n",
      "\t1x1x1 mm\n",
      "* * * * * * * * * * * * * * * * * * * * * * * * * * * * * * * * * * * * * * * *\n",
      "\n",
      "[NiftyReg] Resampled image has been saved: /autofs/space/celer_001/users/leila/data/pbr28/PBRKOA_KOA013_112018/mr_nifti/t1_mask_registered.nii.gz\n"
     ]
    },
    {
     "name": "stderr",
     "output_type": "stream",
     "text": [
      " 64%|██████▍   | 16/25 [00:47<00:27,  3.01s/it]"
     ]
    },
    {
     "name": "stdout",
     "output_type": "stream",
     "text": [
      "\n",
      "* * * * * * * * * * * * * * * * * * * * * * * * * * * * * * * * * * * * * * * *\n",
      "Command line:\n",
      " reg_resample -ref /autofs/space/celer_001/users/leila/data/pbr28/PBRKOA_KOA013_112018/pet_nifti/3600-180_OP.nii.gz -flo /autofs/space/celer_001/users/leila/data/pbr28/PBRKOA_KOA013_112018/mr_nifti/t1_original.nii.gz -res /autofs/space/celer_001/users/leila/data/pbr28/PBRKOA_KOA013_112018/mr_nifti/t1_img_registered.nii.gz -inter 0\n",
      "Parameters\n",
      "Reference image name: /autofs/space/celer_001/users/leila/data/pbr28/PBRKOA_KOA013_112018/pet_nifti/3600-180_OP.nii.gz\n",
      "\t344x344x127 voxels, 1 volumes\n",
      "\t2.08626x2.08626x2.03125 mm\n",
      "Floating image name: /autofs/space/celer_001/users/leila/data/pbr28/PBRKOA_KOA013_112018/mr_nifti/t1_original.nii.gz\n",
      "\t256x256x256 voxels, 1 volumes\n",
      "\t1x1x1 mm\n",
      "* * * * * * * * * * * * * * * * * * * * * * * * * * * * * * * * * * * * * * * *\n",
      "\n",
      "[NiftyReg] Resampled image has been saved: /autofs/space/celer_001/users/leila/data/pbr28/PBRKOA_KOA013_112018/mr_nifti/t1_img_registered.nii.gz\n",
      "*** MOVING FILES ***\n",
      "Converted .dcm series to .nii file\n",
      "Image size: 344 344 127\n"
     ]
    },
    {
     "name": "stderr",
     "output_type": "stream",
     "text": [
      "WARNING: In /tmp/SimpleITK-build/ITK-prefix/include/ITK-5.2/itkImageSeriesReader.hxx, line 480\n",
      "ImageSeriesReader (0x5585e73210f0): Non uniform sampling or missing slices detected,  maximum nonuniformity:0.000753968\n",
      "\n"
     ]
    },
    {
     "name": "stdout",
     "output_type": "stream",
     "text": [
      "\n",
      "* * * * * * * * * * * * * * * * * * * * * * * * * * * * * * * * * * * * * * * *\n",
      "Command line:\n",
      " reg_resample -ref /autofs/space/celer_001/users/leila/data/pbr28/PBRKOA_KOA005_031518/pet_nifti/3600-180_OP.nii.gz -flo /autofs/space/celer_001/users/leila/data/pbr28/PBRKOA_KOA005_031518/mr_nifti/gt_t1_head_mask.nii.gz -res /autofs/space/celer_001/users/leila/data/pbr28/PBRKOA_KOA005_031518/mr_nifti/t1_mask_registered.nii.gz -inter 0\n",
      "Parameters\n",
      "Reference image name: /autofs/space/celer_001/users/leila/data/pbr28/PBRKOA_KOA005_031518/pet_nifti/3600-180_OP.nii.gz\n",
      "\t344x344x127 voxels, 1 volumes\n",
      "\t2.08626x2.08626x2.03125 mm\n",
      "Floating image name: /autofs/space/celer_001/users/leila/data/pbr28/PBRKOA_KOA005_031518/mr_nifti/gt_t1_head_mask.nii.gz\n",
      "\t256x256x256 voxels, 1 volumes\n",
      "\t1x1x1 mm\n",
      "* * * * * * * * * * * * * * * * * * * * * * * * * * * * * * * * * * * * * * * *\n",
      "\n",
      "[NiftyReg] Resampled image has been saved: /autofs/space/celer_001/users/leila/data/pbr28/PBRKOA_KOA005_031518/mr_nifti/t1_mask_registered.nii.gz\n"
     ]
    },
    {
     "name": "stderr",
     "output_type": "stream",
     "text": [
      " 68%|██████▊   | 17/25 [00:50<00:24,  3.00s/it]"
     ]
    },
    {
     "name": "stdout",
     "output_type": "stream",
     "text": [
      "\n",
      "* * * * * * * * * * * * * * * * * * * * * * * * * * * * * * * * * * * * * * * *\n",
      "Command line:\n",
      " reg_resample -ref /autofs/space/celer_001/users/leila/data/pbr28/PBRKOA_KOA005_031518/pet_nifti/3600-180_OP.nii.gz -flo /autofs/space/celer_001/users/leila/data/pbr28/PBRKOA_KOA005_031518/mr_nifti/t1_original.nii.gz -res /autofs/space/celer_001/users/leila/data/pbr28/PBRKOA_KOA005_031518/mr_nifti/t1_img_registered.nii.gz -inter 0\n",
      "Parameters\n",
      "Reference image name: /autofs/space/celer_001/users/leila/data/pbr28/PBRKOA_KOA005_031518/pet_nifti/3600-180_OP.nii.gz\n",
      "\t344x344x127 voxels, 1 volumes\n",
      "\t2.08626x2.08626x2.03125 mm\n",
      "Floating image name: /autofs/space/celer_001/users/leila/data/pbr28/PBRKOA_KOA005_031518/mr_nifti/t1_original.nii.gz\n",
      "\t256x256x256 voxels, 1 volumes\n",
      "\t1x1x1 mm\n",
      "* * * * * * * * * * * * * * * * * * * * * * * * * * * * * * * * * * * * * * * *\n",
      "\n",
      "[NiftyReg] Resampled image has been saved: /autofs/space/celer_001/users/leila/data/pbr28/PBRKOA_KOA005_031518/mr_nifti/t1_img_registered.nii.gz\n",
      "*** MOVING FILES ***\n",
      "Converted .dcm series to .nii file\n",
      "Image size: 344 344 127\n"
     ]
    },
    {
     "name": "stderr",
     "output_type": "stream",
     "text": [
      "WARNING: In /tmp/SimpleITK-build/ITK-prefix/include/ITK-5.2/itkImageSeriesReader.hxx, line 480\n",
      "ImageSeriesReader (0x5585e8659af0): Non uniform sampling or missing slices detected,  maximum nonuniformity:0.00124603\n",
      "\n"
     ]
    },
    {
     "name": "stdout",
     "output_type": "stream",
     "text": [
      "\n",
      "* * * * * * * * * * * * * * * * * * * * * * * * * * * * * * * * * * * * * * * *\n",
      "Command line:\n",
      " reg_resample -ref /autofs/space/celer_001/users/leila/data/pbr28/PBRKOA_KOA031_102319/pet_nifti/3600-180_OP.nii.gz -flo /autofs/space/celer_001/users/leila/data/pbr28/PBRKOA_KOA031_102319/mr_nifti/gt_t1_head_mask.nii.gz -res /autofs/space/celer_001/users/leila/data/pbr28/PBRKOA_KOA031_102319/mr_nifti/t1_mask_registered.nii.gz -inter 0\n",
      "Parameters\n",
      "Reference image name: /autofs/space/celer_001/users/leila/data/pbr28/PBRKOA_KOA031_102319/pet_nifti/3600-180_OP.nii.gz\n",
      "\t344x344x127 voxels, 1 volumes\n",
      "\t2.08626x2.08626x2.03125 mm\n",
      "Floating image name: /autofs/space/celer_001/users/leila/data/pbr28/PBRKOA_KOA031_102319/mr_nifti/gt_t1_head_mask.nii.gz\n",
      "\t256x256x256 voxels, 1 volumes\n",
      "\t1x1x1 mm\n",
      "* * * * * * * * * * * * * * * * * * * * * * * * * * * * * * * * * * * * * * * *\n",
      "\n",
      "[NiftyReg] Resampled image has been saved: /autofs/space/celer_001/users/leila/data/pbr28/PBRKOA_KOA031_102319/mr_nifti/t1_mask_registered.nii.gz\n"
     ]
    },
    {
     "name": "stderr",
     "output_type": "stream",
     "text": [
      " 72%|███████▏  | 18/25 [00:53<00:20,  2.93s/it]"
     ]
    },
    {
     "name": "stdout",
     "output_type": "stream",
     "text": [
      "\n",
      "* * * * * * * * * * * * * * * * * * * * * * * * * * * * * * * * * * * * * * * *\n",
      "Command line:\n",
      " reg_resample -ref /autofs/space/celer_001/users/leila/data/pbr28/PBRKOA_KOA031_102319/pet_nifti/3600-180_OP.nii.gz -flo /autofs/space/celer_001/users/leila/data/pbr28/PBRKOA_KOA031_102319/mr_nifti/t1_original.nii.gz -res /autofs/space/celer_001/users/leila/data/pbr28/PBRKOA_KOA031_102319/mr_nifti/t1_img_registered.nii.gz -inter 0\n",
      "Parameters\n",
      "Reference image name: /autofs/space/celer_001/users/leila/data/pbr28/PBRKOA_KOA031_102319/pet_nifti/3600-180_OP.nii.gz\n",
      "\t344x344x127 voxels, 1 volumes\n",
      "\t2.08626x2.08626x2.03125 mm\n",
      "Floating image name: /autofs/space/celer_001/users/leila/data/pbr28/PBRKOA_KOA031_102319/mr_nifti/t1_original.nii.gz\n",
      "\t256x256x256 voxels, 1 volumes\n",
      "\t1x1x1 mm\n",
      "* * * * * * * * * * * * * * * * * * * * * * * * * * * * * * * * * * * * * * * *\n",
      "\n",
      "[NiftyReg] Resampled image has been saved: /autofs/space/celer_001/users/leila/data/pbr28/PBRKOA_KOA031_102319/mr_nifti/t1_img_registered.nii.gz\n",
      "*** MOVING FILES ***\n",
      "Converted .dcm series to .nii file\n",
      "Image size: 344 344 127\n"
     ]
    },
    {
     "name": "stderr",
     "output_type": "stream",
     "text": [
      "WARNING: In /tmp/SimpleITK-build/ITK-prefix/include/ITK-5.2/itkImageSeriesReader.hxx, line 480\n",
      "ImageSeriesReader (0x5585e83888e0): Non uniform sampling or missing slices detected,  maximum nonuniformity:0.000753968\n",
      "\n"
     ]
    },
    {
     "name": "stdout",
     "output_type": "stream",
     "text": [
      "\n",
      "* * * * * * * * * * * * * * * * * * * * * * * * * * * * * * * * * * * * * * * *\n",
      "Command line:\n",
      " reg_resample -ref /autofs/space/celer_001/users/leila/data/pbr28/PBRKOA_KOA023_070319/pet_nifti/3600-180_OP.nii.gz -flo /autofs/space/celer_001/users/leila/data/pbr28/PBRKOA_KOA023_070319/mr_nifti/gt_t1_head_mask.nii.gz -res /autofs/space/celer_001/users/leila/data/pbr28/PBRKOA_KOA023_070319/mr_nifti/t1_mask_registered.nii.gz -inter 0\n",
      "Parameters\n",
      "Reference image name: /autofs/space/celer_001/users/leila/data/pbr28/PBRKOA_KOA023_070319/pet_nifti/3600-180_OP.nii.gz\n",
      "\t344x344x127 voxels, 1 volumes\n",
      "\t2.08626x2.08626x2.03125 mm\n",
      "Floating image name: /autofs/space/celer_001/users/leila/data/pbr28/PBRKOA_KOA023_070319/mr_nifti/gt_t1_head_mask.nii.gz\n",
      "\t256x256x256 voxels, 1 volumes\n",
      "\t1x1x1 mm\n",
      "* * * * * * * * * * * * * * * * * * * * * * * * * * * * * * * * * * * * * * * *\n",
      "\n",
      "[NiftyReg] Resampled image has been saved: /autofs/space/celer_001/users/leila/data/pbr28/PBRKOA_KOA023_070319/mr_nifti/t1_mask_registered.nii.gz\n"
     ]
    },
    {
     "name": "stderr",
     "output_type": "stream",
     "text": [
      " 76%|███████▌  | 19/25 [00:55<00:16,  2.82s/it]"
     ]
    },
    {
     "name": "stdout",
     "output_type": "stream",
     "text": [
      "\n",
      "* * * * * * * * * * * * * * * * * * * * * * * * * * * * * * * * * * * * * * * *\n",
      "Command line:\n",
      " reg_resample -ref /autofs/space/celer_001/users/leila/data/pbr28/PBRKOA_KOA023_070319/pet_nifti/3600-180_OP.nii.gz -flo /autofs/space/celer_001/users/leila/data/pbr28/PBRKOA_KOA023_070319/mr_nifti/t1_original.nii.gz -res /autofs/space/celer_001/users/leila/data/pbr28/PBRKOA_KOA023_070319/mr_nifti/t1_img_registered.nii.gz -inter 0\n",
      "Parameters\n",
      "Reference image name: /autofs/space/celer_001/users/leila/data/pbr28/PBRKOA_KOA023_070319/pet_nifti/3600-180_OP.nii.gz\n",
      "\t344x344x127 voxels, 1 volumes\n",
      "\t2.08626x2.08626x2.03125 mm\n",
      "Floating image name: /autofs/space/celer_001/users/leila/data/pbr28/PBRKOA_KOA023_070319/mr_nifti/t1_original.nii.gz\n",
      "\t256x256x256 voxels, 1 volumes\n",
      "\t1x1x1 mm\n",
      "* * * * * * * * * * * * * * * * * * * * * * * * * * * * * * * * * * * * * * * *\n",
      "\n",
      "[NiftyReg] Resampled image has been saved: /autofs/space/celer_001/users/leila/data/pbr28/PBRKOA_KOA023_070319/mr_nifti/t1_img_registered.nii.gz\n",
      "*** MOVING FILES ***\n",
      "Converted .dcm series to .nii file\n",
      "Image size: 344 344 127\n"
     ]
    },
    {
     "name": "stderr",
     "output_type": "stream",
     "text": [
      "WARNING: In /tmp/SimpleITK-build/ITK-prefix/include/ITK-5.2/itkImageSeriesReader.hxx, line 480\n",
      "ImageSeriesReader (0x5585e8385670): Non uniform sampling or missing slices detected,  maximum nonuniformity:0.00124603\n",
      "\n"
     ]
    },
    {
     "name": "stdout",
     "output_type": "stream",
     "text": [
      "\n",
      "* * * * * * * * * * * * * * * * * * * * * * * * * * * * * * * * * * * * * * * *\n",
      "Command line:\n",
      " reg_resample -ref /autofs/space/celer_001/users/leila/data/pbr28/PBRKOA_KOA002_021419/pet_nifti/3600-180_OP.nii.gz -flo /autofs/space/celer_001/users/leila/data/pbr28/PBRKOA_KOA002_021419/mr_nifti/gt_t1_head_mask.nii.gz -res /autofs/space/celer_001/users/leila/data/pbr28/PBRKOA_KOA002_021419/mr_nifti/t1_mask_registered.nii.gz -inter 0\n",
      "Parameters\n",
      "Reference image name: /autofs/space/celer_001/users/leila/data/pbr28/PBRKOA_KOA002_021419/pet_nifti/3600-180_OP.nii.gz\n",
      "\t344x344x127 voxels, 1 volumes\n",
      "\t2.08626x2.08626x2.03125 mm\n",
      "Floating image name: /autofs/space/celer_001/users/leila/data/pbr28/PBRKOA_KOA002_021419/mr_nifti/gt_t1_head_mask.nii.gz\n",
      "\t256x256x256 voxels, 1 volumes\n",
      "\t1x1x1 mm\n",
      "* * * * * * * * * * * * * * * * * * * * * * * * * * * * * * * * * * * * * * * *\n",
      "\n",
      "[NiftyReg] Resampled image has been saved: /autofs/space/celer_001/users/leila/data/pbr28/PBRKOA_KOA002_021419/mr_nifti/t1_mask_registered.nii.gz\n"
     ]
    },
    {
     "name": "stderr",
     "output_type": "stream",
     "text": [
      " 80%|████████  | 20/25 [00:58<00:14,  2.86s/it]"
     ]
    },
    {
     "name": "stdout",
     "output_type": "stream",
     "text": [
      "\n",
      "* * * * * * * * * * * * * * * * * * * * * * * * * * * * * * * * * * * * * * * *\n",
      "Command line:\n",
      " reg_resample -ref /autofs/space/celer_001/users/leila/data/pbr28/PBRKOA_KOA002_021419/pet_nifti/3600-180_OP.nii.gz -flo /autofs/space/celer_001/users/leila/data/pbr28/PBRKOA_KOA002_021419/mr_nifti/t1_original.nii.gz -res /autofs/space/celer_001/users/leila/data/pbr28/PBRKOA_KOA002_021419/mr_nifti/t1_img_registered.nii.gz -inter 0\n",
      "Parameters\n",
      "Reference image name: /autofs/space/celer_001/users/leila/data/pbr28/PBRKOA_KOA002_021419/pet_nifti/3600-180_OP.nii.gz\n",
      "\t344x344x127 voxels, 1 volumes\n",
      "\t2.08626x2.08626x2.03125 mm\n",
      "Floating image name: /autofs/space/celer_001/users/leila/data/pbr28/PBRKOA_KOA002_021419/mr_nifti/t1_original.nii.gz\n",
      "\t256x256x256 voxels, 1 volumes\n",
      "\t1x1x1 mm\n",
      "* * * * * * * * * * * * * * * * * * * * * * * * * * * * * * * * * * * * * * * *\n",
      "\n",
      "[NiftyReg] Resampled image has been saved: /autofs/space/celer_001/users/leila/data/pbr28/PBRKOA_KOA002_021419/mr_nifti/t1_img_registered.nii.gz\n",
      "*** MOVING FILES ***\n",
      "Converted .dcm series to .nii file\n",
      "Image size: 344 344 127\n"
     ]
    },
    {
     "name": "stderr",
     "output_type": "stream",
     "text": [
      "WARNING: In /tmp/SimpleITK-build/ITK-prefix/include/ITK-5.2/itkImageSeriesReader.hxx, line 480\n",
      "ImageSeriesReader (0x5585e83851b0): Non uniform sampling or missing slices detected,  maximum nonuniformity:0.00124603\n",
      "\n"
     ]
    },
    {
     "name": "stdout",
     "output_type": "stream",
     "text": [
      "\n",
      "* * * * * * * * * * * * * * * * * * * * * * * * * * * * * * * * * * * * * * * *\n",
      "Command line:\n",
      " reg_resample -ref /autofs/space/celer_001/users/leila/data/pbr28/PBRKOA_KOA026_060619/pet_nifti/3600-180_OP.nii.gz -flo /autofs/space/celer_001/users/leila/data/pbr28/PBRKOA_KOA026_060619/mr_nifti/gt_t1_head_mask.nii.gz -res /autofs/space/celer_001/users/leila/data/pbr28/PBRKOA_KOA026_060619/mr_nifti/t1_mask_registered.nii.gz -inter 0\n",
      "Parameters\n",
      "Reference image name: /autofs/space/celer_001/users/leila/data/pbr28/PBRKOA_KOA026_060619/pet_nifti/3600-180_OP.nii.gz\n",
      "\t344x344x127 voxels, 1 volumes\n",
      "\t2.08626x2.08626x2.03125 mm\n",
      "Floating image name: /autofs/space/celer_001/users/leila/data/pbr28/PBRKOA_KOA026_060619/mr_nifti/gt_t1_head_mask.nii.gz\n",
      "\t256x256x256 voxels, 1 volumes\n",
      "\t1x1x1 mm\n",
      "* * * * * * * * * * * * * * * * * * * * * * * * * * * * * * * * * * * * * * * *\n",
      "\n",
      "[NiftyReg] Resampled image has been saved: /autofs/space/celer_001/users/leila/data/pbr28/PBRKOA_KOA026_060619/mr_nifti/t1_mask_registered.nii.gz\n"
     ]
    },
    {
     "name": "stderr",
     "output_type": "stream",
     "text": [
      " 84%|████████▍ | 21/25 [01:01<00:11,  2.88s/it]"
     ]
    },
    {
     "name": "stdout",
     "output_type": "stream",
     "text": [
      "\n",
      "* * * * * * * * * * * * * * * * * * * * * * * * * * * * * * * * * * * * * * * *\n",
      "Command line:\n",
      " reg_resample -ref /autofs/space/celer_001/users/leila/data/pbr28/PBRKOA_KOA026_060619/pet_nifti/3600-180_OP.nii.gz -flo /autofs/space/celer_001/users/leila/data/pbr28/PBRKOA_KOA026_060619/mr_nifti/t1_original.nii.gz -res /autofs/space/celer_001/users/leila/data/pbr28/PBRKOA_KOA026_060619/mr_nifti/t1_img_registered.nii.gz -inter 0\n",
      "Parameters\n",
      "Reference image name: /autofs/space/celer_001/users/leila/data/pbr28/PBRKOA_KOA026_060619/pet_nifti/3600-180_OP.nii.gz\n",
      "\t344x344x127 voxels, 1 volumes\n",
      "\t2.08626x2.08626x2.03125 mm\n",
      "Floating image name: /autofs/space/celer_001/users/leila/data/pbr28/PBRKOA_KOA026_060619/mr_nifti/t1_original.nii.gz\n",
      "\t256x256x256 voxels, 1 volumes\n",
      "\t1x1x1 mm\n",
      "* * * * * * * * * * * * * * * * * * * * * * * * * * * * * * * * * * * * * * * *\n",
      "\n",
      "[NiftyReg] Resampled image has been saved: /autofs/space/celer_001/users/leila/data/pbr28/PBRKOA_KOA026_060619/mr_nifti/t1_img_registered.nii.gz\n",
      "*** MOVING FILES ***\n",
      "Converted .dcm series to .nii file\n",
      "Image size: 344 344 127\n"
     ]
    },
    {
     "name": "stderr",
     "output_type": "stream",
     "text": [
      "WARNING: In /tmp/SimpleITK-build/ITK-prefix/include/ITK-5.2/itkImageSeriesReader.hxx, line 480\n",
      "ImageSeriesReader (0x5585e862cbe0): Non uniform sampling or missing slices detected,  maximum nonuniformity:0.00124603\n",
      "\n"
     ]
    },
    {
     "name": "stdout",
     "output_type": "stream",
     "text": [
      "\n",
      "* * * * * * * * * * * * * * * * * * * * * * * * * * * * * * * * * * * * * * * *\n",
      "Command line:\n",
      " reg_resample -ref /autofs/space/celer_001/users/leila/data/pbr28/PBRKOA_KOA022_052119/pet_nifti/3600-180_OP.nii.gz -flo /autofs/space/celer_001/users/leila/data/pbr28/PBRKOA_KOA022_052119/mr_nifti/gt_t1_head_mask.nii.gz -res /autofs/space/celer_001/users/leila/data/pbr28/PBRKOA_KOA022_052119/mr_nifti/t1_mask_registered.nii.gz -inter 0\n",
      "Parameters\n",
      "Reference image name: /autofs/space/celer_001/users/leila/data/pbr28/PBRKOA_KOA022_052119/pet_nifti/3600-180_OP.nii.gz\n",
      "\t344x344x127 voxels, 1 volumes\n",
      "\t2.08626x2.08626x2.03125 mm\n",
      "Floating image name: /autofs/space/celer_001/users/leila/data/pbr28/PBRKOA_KOA022_052119/mr_nifti/gt_t1_head_mask.nii.gz\n",
      "\t256x256x256 voxels, 1 volumes\n",
      "\t1x1x1 mm\n",
      "* * * * * * * * * * * * * * * * * * * * * * * * * * * * * * * * * * * * * * * *\n",
      "\n",
      "[NiftyReg] Resampled image has been saved: /autofs/space/celer_001/users/leila/data/pbr28/PBRKOA_KOA022_052119/mr_nifti/t1_mask_registered.nii.gz\n"
     ]
    },
    {
     "name": "stderr",
     "output_type": "stream",
     "text": [
      " 88%|████████▊ | 22/25 [01:04<00:08,  2.86s/it]"
     ]
    },
    {
     "name": "stdout",
     "output_type": "stream",
     "text": [
      "\n",
      "* * * * * * * * * * * * * * * * * * * * * * * * * * * * * * * * * * * * * * * *\n",
      "Command line:\n",
      " reg_resample -ref /autofs/space/celer_001/users/leila/data/pbr28/PBRKOA_KOA022_052119/pet_nifti/3600-180_OP.nii.gz -flo /autofs/space/celer_001/users/leila/data/pbr28/PBRKOA_KOA022_052119/mr_nifti/t1_original.nii.gz -res /autofs/space/celer_001/users/leila/data/pbr28/PBRKOA_KOA022_052119/mr_nifti/t1_img_registered.nii.gz -inter 0\n",
      "Parameters\n",
      "Reference image name: /autofs/space/celer_001/users/leila/data/pbr28/PBRKOA_KOA022_052119/pet_nifti/3600-180_OP.nii.gz\n",
      "\t344x344x127 voxels, 1 volumes\n",
      "\t2.08626x2.08626x2.03125 mm\n",
      "Floating image name: /autofs/space/celer_001/users/leila/data/pbr28/PBRKOA_KOA022_052119/mr_nifti/t1_original.nii.gz\n",
      "\t256x256x256 voxels, 1 volumes\n",
      "\t1x1x1 mm\n",
      "* * * * * * * * * * * * * * * * * * * * * * * * * * * * * * * * * * * * * * * *\n",
      "\n",
      "[NiftyReg] Resampled image has been saved: /autofs/space/celer_001/users/leila/data/pbr28/PBRKOA_KOA022_052119/mr_nifti/t1_img_registered.nii.gz\n",
      "*** MOVING FILES ***\n",
      "Converted .dcm series to .nii file\n",
      "Image size: 344 344 127\n"
     ]
    },
    {
     "name": "stderr",
     "output_type": "stream",
     "text": [
      "WARNING: In /tmp/SimpleITK-build/ITK-prefix/include/ITK-5.2/itkImageSeriesReader.hxx, line 480\n",
      "ImageSeriesReader (0x5585e862c6c0): Non uniform sampling or missing slices detected,  maximum nonuniformity:0.00124603\n",
      "\n"
     ]
    },
    {
     "name": "stdout",
     "output_type": "stream",
     "text": [
      "\n",
      "* * * * * * * * * * * * * * * * * * * * * * * * * * * * * * * * * * * * * * * *\n",
      "Command line:\n",
      " reg_resample -ref /autofs/space/celer_001/users/leila/data/pbr28/PBRKOA_KOA027_080719/pet_nifti/3600-180_OP.nii.gz -flo /autofs/space/celer_001/users/leila/data/pbr28/PBRKOA_KOA027_080719/mr_nifti/gt_t1_head_mask.nii.gz -res /autofs/space/celer_001/users/leila/data/pbr28/PBRKOA_KOA027_080719/mr_nifti/t1_mask_registered.nii.gz -inter 0\n",
      "Parameters\n",
      "Reference image name: /autofs/space/celer_001/users/leila/data/pbr28/PBRKOA_KOA027_080719/pet_nifti/3600-180_OP.nii.gz\n",
      "\t344x344x127 voxels, 1 volumes\n",
      "\t2.08626x2.08626x2.03125 mm\n",
      "Floating image name: /autofs/space/celer_001/users/leila/data/pbr28/PBRKOA_KOA027_080719/mr_nifti/gt_t1_head_mask.nii.gz\n",
      "\t256x256x256 voxels, 1 volumes\n",
      "\t1x1x1 mm\n",
      "* * * * * * * * * * * * * * * * * * * * * * * * * * * * * * * * * * * * * * * *\n",
      "\n",
      "[NiftyReg] Resampled image has been saved: /autofs/space/celer_001/users/leila/data/pbr28/PBRKOA_KOA027_080719/mr_nifti/t1_mask_registered.nii.gz\n"
     ]
    },
    {
     "name": "stderr",
     "output_type": "stream",
     "text": [
      " 92%|█████████▏| 23/25 [01:07<00:05,  2.80s/it]"
     ]
    },
    {
     "name": "stdout",
     "output_type": "stream",
     "text": [
      "\n",
      "* * * * * * * * * * * * * * * * * * * * * * * * * * * * * * * * * * * * * * * *\n",
      "Command line:\n",
      " reg_resample -ref /autofs/space/celer_001/users/leila/data/pbr28/PBRKOA_KOA027_080719/pet_nifti/3600-180_OP.nii.gz -flo /autofs/space/celer_001/users/leila/data/pbr28/PBRKOA_KOA027_080719/mr_nifti/t1_original.nii.gz -res /autofs/space/celer_001/users/leila/data/pbr28/PBRKOA_KOA027_080719/mr_nifti/t1_img_registered.nii.gz -inter 0\n",
      "Parameters\n",
      "Reference image name: /autofs/space/celer_001/users/leila/data/pbr28/PBRKOA_KOA027_080719/pet_nifti/3600-180_OP.nii.gz\n",
      "\t344x344x127 voxels, 1 volumes\n",
      "\t2.08626x2.08626x2.03125 mm\n",
      "Floating image name: /autofs/space/celer_001/users/leila/data/pbr28/PBRKOA_KOA027_080719/mr_nifti/t1_original.nii.gz\n",
      "\t256x256x256 voxels, 1 volumes\n",
      "\t1x1x1 mm\n",
      "* * * * * * * * * * * * * * * * * * * * * * * * * * * * * * * * * * * * * * * *\n",
      "\n",
      "[NiftyReg] Resampled image has been saved: /autofs/space/celer_001/users/leila/data/pbr28/PBRKOA_KOA027_080719/mr_nifti/t1_img_registered.nii.gz\n",
      "*** MOVING FILES ***\n",
      "Converted .dcm series to .nii file\n",
      "Image size: 344 344 127\n"
     ]
    },
    {
     "name": "stderr",
     "output_type": "stream",
     "text": [
      "WARNING: In /tmp/SimpleITK-build/ITK-prefix/include/ITK-5.2/itkImageSeriesReader.hxx, line 480\n",
      "ImageSeriesReader (0x5585e8388ab0): Non uniform sampling or missing slices detected,  maximum nonuniformity:0.00124603\n",
      "\n"
     ]
    },
    {
     "name": "stdout",
     "output_type": "stream",
     "text": [
      "\n",
      "* * * * * * * * * * * * * * * * * * * * * * * * * * * * * * * * * * * * * * * *\n",
      "Command line:\n",
      " reg_resample -ref /autofs/space/celer_001/users/leila/data/pbr28/PBRKOA_KOA025_062619/pet_nifti/3600-180_OP.nii.gz -flo /autofs/space/celer_001/users/leila/data/pbr28/PBRKOA_KOA025_062619/mr_nifti/gt_t1_head_mask.nii.gz -res /autofs/space/celer_001/users/leila/data/pbr28/PBRKOA_KOA025_062619/mr_nifti/t1_mask_registered.nii.gz -inter 0\n",
      "Parameters\n",
      "Reference image name: /autofs/space/celer_001/users/leila/data/pbr28/PBRKOA_KOA025_062619/pet_nifti/3600-180_OP.nii.gz\n",
      "\t344x344x127 voxels, 1 volumes\n",
      "\t2.08626x2.08626x2.03125 mm\n",
      "Floating image name: /autofs/space/celer_001/users/leila/data/pbr28/PBRKOA_KOA025_062619/mr_nifti/gt_t1_head_mask.nii.gz\n",
      "\t256x256x256 voxels, 1 volumes\n",
      "\t1x1x1 mm\n",
      "* * * * * * * * * * * * * * * * * * * * * * * * * * * * * * * * * * * * * * * *\n",
      "\n",
      "[NiftyReg] Resampled image has been saved: /autofs/space/celer_001/users/leila/data/pbr28/PBRKOA_KOA025_062619/mr_nifti/t1_mask_registered.nii.gz\n"
     ]
    },
    {
     "name": "stderr",
     "output_type": "stream",
     "text": [
      " 96%|█████████▌| 24/25 [01:10<00:02,  2.83s/it]"
     ]
    },
    {
     "name": "stdout",
     "output_type": "stream",
     "text": [
      "\n",
      "* * * * * * * * * * * * * * * * * * * * * * * * * * * * * * * * * * * * * * * *\n",
      "Command line:\n",
      " reg_resample -ref /autofs/space/celer_001/users/leila/data/pbr28/PBRKOA_KOA025_062619/pet_nifti/3600-180_OP.nii.gz -flo /autofs/space/celer_001/users/leila/data/pbr28/PBRKOA_KOA025_062619/mr_nifti/t1_original.nii.gz -res /autofs/space/celer_001/users/leila/data/pbr28/PBRKOA_KOA025_062619/mr_nifti/t1_img_registered.nii.gz -inter 0\n",
      "Parameters\n",
      "Reference image name: /autofs/space/celer_001/users/leila/data/pbr28/PBRKOA_KOA025_062619/pet_nifti/3600-180_OP.nii.gz\n",
      "\t344x344x127 voxels, 1 volumes\n",
      "\t2.08626x2.08626x2.03125 mm\n",
      "Floating image name: /autofs/space/celer_001/users/leila/data/pbr28/PBRKOA_KOA025_062619/mr_nifti/t1_original.nii.gz\n",
      "\t256x256x256 voxels, 1 volumes\n",
      "\t1x1x1 mm\n",
      "* * * * * * * * * * * * * * * * * * * * * * * * * * * * * * * * * * * * * * * *\n",
      "\n",
      "[NiftyReg] Resampled image has been saved: /autofs/space/celer_001/users/leila/data/pbr28/PBRKOA_KOA025_062619/mr_nifti/t1_img_registered.nii.gz\n",
      "*** MOVING FILES ***\n"
     ]
    },
    {
     "name": "stderr",
     "output_type": "stream",
     "text": [
      "WARNING: In /tmp/SimpleITK-build/ITK-prefix/include/ITK-5.2/itkImageSeriesReader.hxx, line 480\n",
      "ImageSeriesReader (0x5585e67f5080): Non uniform sampling or missing slices detected,  maximum nonuniformity:0.00124603\n",
      "\n"
     ]
    },
    {
     "name": "stdout",
     "output_type": "stream",
     "text": [
      "Converted .dcm series to .nii file\n",
      "Image size: 344 344 127\n",
      "\n",
      "* * * * * * * * * * * * * * * * * * * * * * * * * * * * * * * * * * * * * * * *\n",
      "Command line:\n",
      " reg_resample -ref /autofs/space/celer_001/users/leila/data/pbr28/PBRKOA_HC011_090518/pet_nifti/3600-180_OP.nii.gz -flo /autofs/space/celer_001/users/leila/data/pbr28/PBRKOA_HC011_090518/mr_nifti/gt_t1_head_mask.nii.gz -res /autofs/space/celer_001/users/leila/data/pbr28/PBRKOA_HC011_090518/mr_nifti/t1_mask_registered.nii.gz -inter 0\n",
      "Parameters\n",
      "Reference image name: /autofs/space/celer_001/users/leila/data/pbr28/PBRKOA_HC011_090518/pet_nifti/3600-180_OP.nii.gz\n",
      "\t344x344x127 voxels, 1 volumes\n",
      "\t2.08626x2.08626x2.03125 mm\n",
      "Floating image name: /autofs/space/celer_001/users/leila/data/pbr28/PBRKOA_HC011_090518/mr_nifti/gt_t1_head_mask.nii.gz\n",
      "\t256x256x256 voxels, 1 volumes\n",
      "\t1x1x1 mm\n",
      "* * * * * * * * * * * * * * * * * * * * * * * * * * * * * * * * * * * * * * * *\n",
      "\n",
      "[NiftyReg] Resampled image has been saved: /autofs/space/celer_001/users/leila/data/pbr28/PBRKOA_HC011_090518/mr_nifti/t1_mask_registered.nii.gz\n"
     ]
    },
    {
     "name": "stderr",
     "output_type": "stream",
     "text": [
      "100%|██████████| 25/25 [01:13<00:00,  2.95s/it]"
     ]
    },
    {
     "name": "stdout",
     "output_type": "stream",
     "text": [
      "\n",
      "* * * * * * * * * * * * * * * * * * * * * * * * * * * * * * * * * * * * * * * *\n",
      "Command line:\n",
      " reg_resample -ref /autofs/space/celer_001/users/leila/data/pbr28/PBRKOA_HC011_090518/pet_nifti/3600-180_OP.nii.gz -flo /autofs/space/celer_001/users/leila/data/pbr28/PBRKOA_HC011_090518/mr_nifti/t1_original.nii.gz -res /autofs/space/celer_001/users/leila/data/pbr28/PBRKOA_HC011_090518/mr_nifti/t1_img_registered.nii.gz -inter 0\n",
      "Parameters\n",
      "Reference image name: /autofs/space/celer_001/users/leila/data/pbr28/PBRKOA_HC011_090518/pet_nifti/3600-180_OP.nii.gz\n",
      "\t344x344x127 voxels, 1 volumes\n",
      "\t2.08626x2.08626x2.03125 mm\n",
      "Floating image name: /autofs/space/celer_001/users/leila/data/pbr28/PBRKOA_HC011_090518/mr_nifti/t1_original.nii.gz\n",
      "\t256x256x256 voxels, 1 volumes\n",
      "\t1x1x1 mm\n",
      "* * * * * * * * * * * * * * * * * * * * * * * * * * * * * * * * * * * * * * * *\n",
      "\n",
      "[NiftyReg] Resampled image has been saved: /autofs/space/celer_001/users/leila/data/pbr28/PBRKOA_HC011_090518/mr_nifti/t1_img_registered.nii.gz\n"
     ]
    },
    {
     "name": "stderr",
     "output_type": "stream",
     "text": [
      "\n"
     ]
    }
   ],
   "source": [
    "format_dirs.move_reconstructed_files(WINDOWS_SHARED_DATA_PATH + \"/PBR*/\", FINAL_DATA_PATH_FOR_MODEL, recon_trial_name=\"3600-180\", ground_truth_path=RAW_DATA_ROOT)\n",
    "\n",
    "# format_dirs.move_reconstructed_files(WINDOWS_SHARED_DATA_PATH + \"/PBR*/\", FINAL_DATA_PATH_FOR_MODEL , ground_truth_path=RAW_DATA_ROOT, )"
   ]
  },
  {
   "cell_type": "code",
   "execution_count": null,
   "metadata": {},
   "outputs": [],
   "source": []
  }
 ],
 "metadata": {
  "interpreter": {
   "hash": "c6dd644061696395b513294d8c64a2fd82baaf51241526334e93af3b2c2ccabf"
  },
  "kernelspec": {
   "display_name": "Python 3.9.12 ('base')",
   "language": "python",
   "name": "python3"
  },
  "language_info": {
   "codemirror_mode": {
    "name": "ipython",
    "version": 3
   },
   "file_extension": ".py",
   "mimetype": "text/x-python",
   "name": "python",
   "nbconvert_exporter": "python",
   "pygments_lexer": "ipython3",
   "version": "3.9.12"
  },
  "orig_nbformat": 4
 },
 "nbformat": 4,
 "nbformat_minor": 2
}
